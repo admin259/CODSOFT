{
 "cells": [
  {
   "cell_type": "markdown",
   "id": "4dc86247-eed0-4b99-b113-ce8f60d967a2",
   "metadata": {},
   "source": [
    "## TASK 2: MOVIE RATING PREDICTION WITH PYTHON\n",
    "##### Author: Sharjeel\n",
    "##### Domain: Data Science\n",
    "##### Batch: DECEMBER BATCH A92"
   ]
  },
  {
   "cell_type": "markdown",
   "id": "8b2afefb-4d1a-4375-aacf-60158639dd0e",
   "metadata": {},
   "source": [
    "### Problem Statement \n",
    "Build a model that predicts the rating of a movie based on\n",
    "features like genre, director, and actors. You can use regression\n",
    "techniques to tackle this problem.\n",
    "\n",
    "\n",
    "### Aim\n",
    "The goal is to analyze historical movie data and develop a model\n",
    "that accurately estimates the rating given to a movie by users or\n",
    "critics.\n",
    "\n",
    "\n",
    "### Approach\n",
    "we will read the dataset and preprocess by handling missing values and encoding categorical variables appropriately. Feature engineering will be performed to enhance the model's performance, including creating new features and removing irrelevant ones. The dataset will then be split into training and testing sets, and Linear Regression model will be trained. Finally, the model's accuracy will be evaluated using metrics like MSE, MAPE or R_Square.\n",
    "\n",
    "\n",
    "### Content\n",
    "The columns are resembling practical world features. The Rating column indicates ratings are likely scaled between 1 and 10, with higher ratings indicating better reviews or preferences. In the Rating column we have ratings and the frequency of the ratings. Data contains 15509 records and 10 distinct features.\n",
    "\n",
    "\n",
    "\n",
    "### Features\n",
    "Input/Features\n",
    "1. Name\n",
    "2. Year\n",
    "3. Duration\n",
    "4. Genre\n",
    "5. Votes\n",
    "6. Director\n",
    "7. Actor 1\n",
    "8. Actor 2\n",
    "9. Actor 3\n",
    "\n",
    "Output/Labels\n",
    "\n",
    "10. Rating\n",
    "\n",
    "\n",
    "### Procedure\n",
    "1. Importing and checking the dataset\n",
    "   \n",
    "2. EDA\n",
    "   \n",
    "3. Observations\n",
    "   \n",
    "4. Data Cleaning\n",
    "   \n",
    "5. Converting Datatype\n",
    "    \n",
    "6. Feature Engineering\n",
    "    \n",
    "7. Model Building\n",
    "    \n",
    "8. Evaluation\n",
    "    \n",
    "9. Conclusion\n",
    "\n",
    "\n",
    "\n",
    "\n",
    "\n",
    "\n"
   ]
  },
  {
   "cell_type": "markdown",
   "id": "2fa0f39e-b67e-4351-befe-49012800e2fb",
   "metadata": {},
   "source": [
    "### Importing and checking the dataset"
   ]
  },
  {
   "cell_type": "code",
   "execution_count": 4,
   "id": "53ddb3c0-b9a9-4acd-8c39-303b98cb1685",
   "metadata": {},
   "outputs": [],
   "source": [
    "import pandas as pd\n",
    "import numpy as np\n",
    "import warnings\n",
    "warnings.filterwarnings(\"ignore\")"
   ]
  },
  {
   "cell_type": "code",
   "execution_count": 6,
   "id": "53cff3aa-8233-44d9-be15-d51abc91c3bb",
   "metadata": {},
   "outputs": [],
   "source": [
    "import matplotlib.pyplot as plt\n",
    "%matplotlib inline\n",
    "import seaborn as sns"
   ]
  },
  {
   "cell_type": "code",
   "execution_count": 7,
   "id": "14775c68-3f06-4346-ac35-8f6d194b5eb9",
   "metadata": {},
   "outputs": [],
   "source": [
    "df=pd.read_csv(r\"C:\\Users\\hp\\OneDrive\\Desktop\\CodSoft\\CodSoft-Datasets\\IMDb Movies India.csv\",encoding=\"latin1\")"
   ]
  },
  {
   "cell_type": "code",
   "execution_count": 8,
   "id": "b0b74e05-7f9c-4b29-bc0f-0da248270606",
   "metadata": {},
   "outputs": [
    {
     "data": {
      "text/html": [
       "<div>\n",
       "<style scoped>\n",
       "    .dataframe tbody tr th:only-of-type {\n",
       "        vertical-align: middle;\n",
       "    }\n",
       "\n",
       "    .dataframe tbody tr th {\n",
       "        vertical-align: top;\n",
       "    }\n",
       "\n",
       "    .dataframe thead th {\n",
       "        text-align: right;\n",
       "    }\n",
       "</style>\n",
       "<table border=\"1\" class=\"dataframe\">\n",
       "  <thead>\n",
       "    <tr style=\"text-align: right;\">\n",
       "      <th></th>\n",
       "      <th>Name</th>\n",
       "      <th>Year</th>\n",
       "      <th>Duration</th>\n",
       "      <th>Genre</th>\n",
       "      <th>Rating</th>\n",
       "      <th>Votes</th>\n",
       "      <th>Director</th>\n",
       "      <th>Actor 1</th>\n",
       "      <th>Actor 2</th>\n",
       "      <th>Actor 3</th>\n",
       "    </tr>\n",
       "  </thead>\n",
       "  <tbody>\n",
       "    <tr>\n",
       "      <th>0</th>\n",
       "      <td></td>\n",
       "      <td>NaN</td>\n",
       "      <td>NaN</td>\n",
       "      <td>Drama</td>\n",
       "      <td>NaN</td>\n",
       "      <td>NaN</td>\n",
       "      <td>J.S. Randhawa</td>\n",
       "      <td>Manmauji</td>\n",
       "      <td>Birbal</td>\n",
       "      <td>Rajendra Bhatia</td>\n",
       "    </tr>\n",
       "    <tr>\n",
       "      <th>1</th>\n",
       "      <td>#Gadhvi (He thought he was Gandhi)</td>\n",
       "      <td>(2019)</td>\n",
       "      <td>109 min</td>\n",
       "      <td>Drama</td>\n",
       "      <td>7.0</td>\n",
       "      <td>8</td>\n",
       "      <td>Gaurav Bakshi</td>\n",
       "      <td>Rasika Dugal</td>\n",
       "      <td>Vivek Ghamande</td>\n",
       "      <td>Arvind Jangid</td>\n",
       "    </tr>\n",
       "    <tr>\n",
       "      <th>2</th>\n",
       "      <td>#Homecoming</td>\n",
       "      <td>(2021)</td>\n",
       "      <td>90 min</td>\n",
       "      <td>Drama, Musical</td>\n",
       "      <td>NaN</td>\n",
       "      <td>NaN</td>\n",
       "      <td>Soumyajit Majumdar</td>\n",
       "      <td>Sayani Gupta</td>\n",
       "      <td>Plabita Borthakur</td>\n",
       "      <td>Roy Angana</td>\n",
       "    </tr>\n",
       "    <tr>\n",
       "      <th>3</th>\n",
       "      <td>#Yaaram</td>\n",
       "      <td>(2019)</td>\n",
       "      <td>110 min</td>\n",
       "      <td>Comedy, Romance</td>\n",
       "      <td>4.4</td>\n",
       "      <td>35</td>\n",
       "      <td>Ovais Khan</td>\n",
       "      <td>Prateik</td>\n",
       "      <td>Ishita Raj</td>\n",
       "      <td>Siddhant Kapoor</td>\n",
       "    </tr>\n",
       "    <tr>\n",
       "      <th>4</th>\n",
       "      <td>...And Once Again</td>\n",
       "      <td>(2010)</td>\n",
       "      <td>105 min</td>\n",
       "      <td>Drama</td>\n",
       "      <td>NaN</td>\n",
       "      <td>NaN</td>\n",
       "      <td>Amol Palekar</td>\n",
       "      <td>Rajat Kapoor</td>\n",
       "      <td>Rituparna Sengupta</td>\n",
       "      <td>Antara Mali</td>\n",
       "    </tr>\n",
       "  </tbody>\n",
       "</table>\n",
       "</div>"
      ],
      "text/plain": [
       "                                 Name    Year Duration            Genre  \\\n",
       "0                                         NaN      NaN            Drama   \n",
       "1  #Gadhvi (He thought he was Gandhi)  (2019)  109 min            Drama   \n",
       "2                         #Homecoming  (2021)   90 min   Drama, Musical   \n",
       "3                             #Yaaram  (2019)  110 min  Comedy, Romance   \n",
       "4                   ...And Once Again  (2010)  105 min            Drama   \n",
       "\n",
       "   Rating Votes            Director       Actor 1             Actor 2  \\\n",
       "0     NaN   NaN       J.S. Randhawa      Manmauji              Birbal   \n",
       "1     7.0     8       Gaurav Bakshi  Rasika Dugal      Vivek Ghamande   \n",
       "2     NaN   NaN  Soumyajit Majumdar  Sayani Gupta   Plabita Borthakur   \n",
       "3     4.4    35          Ovais Khan       Prateik          Ishita Raj   \n",
       "4     NaN   NaN        Amol Palekar  Rajat Kapoor  Rituparna Sengupta   \n",
       "\n",
       "           Actor 3  \n",
       "0  Rajendra Bhatia  \n",
       "1    Arvind Jangid  \n",
       "2       Roy Angana  \n",
       "3  Siddhant Kapoor  \n",
       "4      Antara Mali  "
      ]
     },
     "execution_count": 8,
     "metadata": {},
     "output_type": "execute_result"
    }
   ],
   "source": [
    "df.head()"
   ]
  },
  {
   "cell_type": "code",
   "execution_count": 9,
   "id": "95d8c07a-b92c-48c1-aa55-a20084950bc5",
   "metadata": {},
   "outputs": [
    {
     "data": {
      "text/plain": [
       "(15509, 10)"
      ]
     },
     "execution_count": 9,
     "metadata": {},
     "output_type": "execute_result"
    }
   ],
   "source": [
    "df.shape"
   ]
  },
  {
   "cell_type": "code",
   "execution_count": 10,
   "id": "a46ff75b-b71a-4989-95d3-87f56e437289",
   "metadata": {},
   "outputs": [
    {
     "data": {
      "text/plain": [
       "Index(['Name', 'Year', 'Duration', 'Genre', 'Rating', 'Votes', 'Director',\n",
       "       'Actor 1', 'Actor 2', 'Actor 3'],\n",
       "      dtype='object')"
      ]
     },
     "execution_count": 10,
     "metadata": {},
     "output_type": "execute_result"
    }
   ],
   "source": [
    "df.columns"
   ]
  },
  {
   "cell_type": "code",
   "execution_count": 11,
   "id": "a11257c1-39d9-4408-9e27-758f4707efa6",
   "metadata": {},
   "outputs": [
    {
     "name": "stdout",
     "output_type": "stream",
     "text": [
      "<class 'pandas.core.frame.DataFrame'>\n",
      "RangeIndex: 15509 entries, 0 to 15508\n",
      "Data columns (total 10 columns):\n",
      " #   Column    Non-Null Count  Dtype  \n",
      "---  ------    --------------  -----  \n",
      " 0   Name      15509 non-null  object \n",
      " 1   Year      14981 non-null  object \n",
      " 2   Duration  7240 non-null   object \n",
      " 3   Genre     13632 non-null  object \n",
      " 4   Rating    7919 non-null   float64\n",
      " 5   Votes     7920 non-null   object \n",
      " 6   Director  14984 non-null  object \n",
      " 7   Actor 1   13892 non-null  object \n",
      " 8   Actor 2   13125 non-null  object \n",
      " 9   Actor 3   12365 non-null  object \n",
      "dtypes: float64(1), object(9)\n",
      "memory usage: 1.2+ MB\n"
     ]
    }
   ],
   "source": [
    "df.info()"
   ]
  },
  {
   "cell_type": "code",
   "execution_count": 12,
   "id": "862083c2-6791-450e-b565-72c8efe646e6",
   "metadata": {},
   "outputs": [
    {
     "data": {
      "text/html": [
       "<div>\n",
       "<style scoped>\n",
       "    .dataframe tbody tr th:only-of-type {\n",
       "        vertical-align: middle;\n",
       "    }\n",
       "\n",
       "    .dataframe tbody tr th {\n",
       "        vertical-align: top;\n",
       "    }\n",
       "\n",
       "    .dataframe thead th {\n",
       "        text-align: right;\n",
       "    }\n",
       "</style>\n",
       "<table border=\"1\" class=\"dataframe\">\n",
       "  <thead>\n",
       "    <tr style=\"text-align: right;\">\n",
       "      <th></th>\n",
       "      <th>Rating</th>\n",
       "    </tr>\n",
       "  </thead>\n",
       "  <tbody>\n",
       "    <tr>\n",
       "      <th>count</th>\n",
       "      <td>7919.000000</td>\n",
       "    </tr>\n",
       "    <tr>\n",
       "      <th>mean</th>\n",
       "      <td>5.841621</td>\n",
       "    </tr>\n",
       "    <tr>\n",
       "      <th>std</th>\n",
       "      <td>1.381777</td>\n",
       "    </tr>\n",
       "    <tr>\n",
       "      <th>min</th>\n",
       "      <td>1.100000</td>\n",
       "    </tr>\n",
       "    <tr>\n",
       "      <th>25%</th>\n",
       "      <td>4.900000</td>\n",
       "    </tr>\n",
       "    <tr>\n",
       "      <th>50%</th>\n",
       "      <td>6.000000</td>\n",
       "    </tr>\n",
       "    <tr>\n",
       "      <th>75%</th>\n",
       "      <td>6.800000</td>\n",
       "    </tr>\n",
       "    <tr>\n",
       "      <th>max</th>\n",
       "      <td>10.000000</td>\n",
       "    </tr>\n",
       "  </tbody>\n",
       "</table>\n",
       "</div>"
      ],
      "text/plain": [
       "            Rating\n",
       "count  7919.000000\n",
       "mean      5.841621\n",
       "std       1.381777\n",
       "min       1.100000\n",
       "25%       4.900000\n",
       "50%       6.000000\n",
       "75%       6.800000\n",
       "max      10.000000"
      ]
     },
     "execution_count": 12,
     "metadata": {},
     "output_type": "execute_result"
    }
   ],
   "source": [
    "df.describe()"
   ]
  },
  {
   "cell_type": "code",
   "execution_count": 13,
   "id": "2b12b717-de5e-4d5d-a019-5d83043ac1a4",
   "metadata": {},
   "outputs": [
    {
     "data": {
      "text/html": [
       "<div>\n",
       "<style scoped>\n",
       "    .dataframe tbody tr th:only-of-type {\n",
       "        vertical-align: middle;\n",
       "    }\n",
       "\n",
       "    .dataframe tbody tr th {\n",
       "        vertical-align: top;\n",
       "    }\n",
       "\n",
       "    .dataframe thead th {\n",
       "        text-align: right;\n",
       "    }\n",
       "</style>\n",
       "<table border=\"1\" class=\"dataframe\">\n",
       "  <thead>\n",
       "    <tr style=\"text-align: right;\">\n",
       "      <th></th>\n",
       "      <th>Name</th>\n",
       "      <th>Year</th>\n",
       "      <th>Duration</th>\n",
       "      <th>Genre</th>\n",
       "      <th>Rating</th>\n",
       "      <th>Votes</th>\n",
       "      <th>Director</th>\n",
       "      <th>Actor 1</th>\n",
       "      <th>Actor 2</th>\n",
       "      <th>Actor 3</th>\n",
       "    </tr>\n",
       "  </thead>\n",
       "  <tbody>\n",
       "    <tr>\n",
       "      <th>count</th>\n",
       "      <td>15509</td>\n",
       "      <td>14981</td>\n",
       "      <td>7240</td>\n",
       "      <td>13632</td>\n",
       "      <td>7919.000000</td>\n",
       "      <td>7920</td>\n",
       "      <td>14984</td>\n",
       "      <td>13892</td>\n",
       "      <td>13125</td>\n",
       "      <td>12365</td>\n",
       "    </tr>\n",
       "    <tr>\n",
       "      <th>unique</th>\n",
       "      <td>13838</td>\n",
       "      <td>102</td>\n",
       "      <td>182</td>\n",
       "      <td>485</td>\n",
       "      <td>NaN</td>\n",
       "      <td>2034</td>\n",
       "      <td>5938</td>\n",
       "      <td>4718</td>\n",
       "      <td>4891</td>\n",
       "      <td>4820</td>\n",
       "    </tr>\n",
       "    <tr>\n",
       "      <th>top</th>\n",
       "      <td>Anjaam</td>\n",
       "      <td>(2019)</td>\n",
       "      <td>120 min</td>\n",
       "      <td>Drama</td>\n",
       "      <td>NaN</td>\n",
       "      <td>8</td>\n",
       "      <td>Jayant Desai</td>\n",
       "      <td>Ashok Kumar</td>\n",
       "      <td>Rekha</td>\n",
       "      <td>Pran</td>\n",
       "    </tr>\n",
       "    <tr>\n",
       "      <th>freq</th>\n",
       "      <td>7</td>\n",
       "      <td>410</td>\n",
       "      <td>240</td>\n",
       "      <td>2780</td>\n",
       "      <td>NaN</td>\n",
       "      <td>227</td>\n",
       "      <td>58</td>\n",
       "      <td>158</td>\n",
       "      <td>83</td>\n",
       "      <td>91</td>\n",
       "    </tr>\n",
       "    <tr>\n",
       "      <th>mean</th>\n",
       "      <td>NaN</td>\n",
       "      <td>NaN</td>\n",
       "      <td>NaN</td>\n",
       "      <td>NaN</td>\n",
       "      <td>5.841621</td>\n",
       "      <td>NaN</td>\n",
       "      <td>NaN</td>\n",
       "      <td>NaN</td>\n",
       "      <td>NaN</td>\n",
       "      <td>NaN</td>\n",
       "    </tr>\n",
       "    <tr>\n",
       "      <th>std</th>\n",
       "      <td>NaN</td>\n",
       "      <td>NaN</td>\n",
       "      <td>NaN</td>\n",
       "      <td>NaN</td>\n",
       "      <td>1.381777</td>\n",
       "      <td>NaN</td>\n",
       "      <td>NaN</td>\n",
       "      <td>NaN</td>\n",
       "      <td>NaN</td>\n",
       "      <td>NaN</td>\n",
       "    </tr>\n",
       "    <tr>\n",
       "      <th>min</th>\n",
       "      <td>NaN</td>\n",
       "      <td>NaN</td>\n",
       "      <td>NaN</td>\n",
       "      <td>NaN</td>\n",
       "      <td>1.100000</td>\n",
       "      <td>NaN</td>\n",
       "      <td>NaN</td>\n",
       "      <td>NaN</td>\n",
       "      <td>NaN</td>\n",
       "      <td>NaN</td>\n",
       "    </tr>\n",
       "    <tr>\n",
       "      <th>25%</th>\n",
       "      <td>NaN</td>\n",
       "      <td>NaN</td>\n",
       "      <td>NaN</td>\n",
       "      <td>NaN</td>\n",
       "      <td>4.900000</td>\n",
       "      <td>NaN</td>\n",
       "      <td>NaN</td>\n",
       "      <td>NaN</td>\n",
       "      <td>NaN</td>\n",
       "      <td>NaN</td>\n",
       "    </tr>\n",
       "    <tr>\n",
       "      <th>50%</th>\n",
       "      <td>NaN</td>\n",
       "      <td>NaN</td>\n",
       "      <td>NaN</td>\n",
       "      <td>NaN</td>\n",
       "      <td>6.000000</td>\n",
       "      <td>NaN</td>\n",
       "      <td>NaN</td>\n",
       "      <td>NaN</td>\n",
       "      <td>NaN</td>\n",
       "      <td>NaN</td>\n",
       "    </tr>\n",
       "    <tr>\n",
       "      <th>75%</th>\n",
       "      <td>NaN</td>\n",
       "      <td>NaN</td>\n",
       "      <td>NaN</td>\n",
       "      <td>NaN</td>\n",
       "      <td>6.800000</td>\n",
       "      <td>NaN</td>\n",
       "      <td>NaN</td>\n",
       "      <td>NaN</td>\n",
       "      <td>NaN</td>\n",
       "      <td>NaN</td>\n",
       "    </tr>\n",
       "    <tr>\n",
       "      <th>max</th>\n",
       "      <td>NaN</td>\n",
       "      <td>NaN</td>\n",
       "      <td>NaN</td>\n",
       "      <td>NaN</td>\n",
       "      <td>10.000000</td>\n",
       "      <td>NaN</td>\n",
       "      <td>NaN</td>\n",
       "      <td>NaN</td>\n",
       "      <td>NaN</td>\n",
       "      <td>NaN</td>\n",
       "    </tr>\n",
       "  </tbody>\n",
       "</table>\n",
       "</div>"
      ],
      "text/plain": [
       "          Name    Year Duration  Genre       Rating Votes      Director  \\\n",
       "count    15509   14981     7240  13632  7919.000000  7920         14984   \n",
       "unique   13838     102      182    485          NaN  2034          5938   \n",
       "top     Anjaam  (2019)  120 min  Drama          NaN     8  Jayant Desai   \n",
       "freq         7     410      240   2780          NaN   227            58   \n",
       "mean       NaN     NaN      NaN    NaN     5.841621   NaN           NaN   \n",
       "std        NaN     NaN      NaN    NaN     1.381777   NaN           NaN   \n",
       "min        NaN     NaN      NaN    NaN     1.100000   NaN           NaN   \n",
       "25%        NaN     NaN      NaN    NaN     4.900000   NaN           NaN   \n",
       "50%        NaN     NaN      NaN    NaN     6.000000   NaN           NaN   \n",
       "75%        NaN     NaN      NaN    NaN     6.800000   NaN           NaN   \n",
       "max        NaN     NaN      NaN    NaN    10.000000   NaN           NaN   \n",
       "\n",
       "            Actor 1 Actor 2 Actor 3  \n",
       "count         13892   13125   12365  \n",
       "unique         4718    4891    4820  \n",
       "top     Ashok Kumar   Rekha    Pran  \n",
       "freq            158      83      91  \n",
       "mean            NaN     NaN     NaN  \n",
       "std             NaN     NaN     NaN  \n",
       "min             NaN     NaN     NaN  \n",
       "25%             NaN     NaN     NaN  \n",
       "50%             NaN     NaN     NaN  \n",
       "75%             NaN     NaN     NaN  \n",
       "max             NaN     NaN     NaN  "
      ]
     },
     "execution_count": 13,
     "metadata": {},
     "output_type": "execute_result"
    }
   ],
   "source": [
    "df.describe(include=\"all\")"
   ]
  },
  {
   "cell_type": "code",
   "execution_count": 14,
   "id": "42e4a827-4976-429d-928e-0c585878b8e7",
   "metadata": {},
   "outputs": [
    {
     "data": {
      "text/plain": [
       "Year         528\n",
       "Duration    8269\n",
       "Genre       1877\n",
       "Rating      7590\n",
       "Votes       7589\n",
       "Director     525\n",
       "Actor 1     1617\n",
       "Actor 2     2384\n",
       "Actor 3     3144\n",
       "dtype: int64"
      ]
     },
     "execution_count": 14,
     "metadata": {},
     "output_type": "execute_result"
    }
   ],
   "source": [
    "df.isnull().sum()[df.isnull().sum()>0]"
   ]
  },
  {
   "cell_type": "code",
   "execution_count": 15,
   "id": "cfada450-6ae2-423b-9e98-7cf0a9f4e94f",
   "metadata": {},
   "outputs": [
    {
     "data": {
      "text/plain": [
       "6"
      ]
     },
     "execution_count": 15,
     "metadata": {},
     "output_type": "execute_result"
    }
   ],
   "source": [
    "df.duplicated().sum()"
   ]
  },
  {
   "cell_type": "markdown",
   "id": "9c84a465-9ae6-4159-bc05-0cf455bf7325",
   "metadata": {},
   "source": [
    "### Observations"
   ]
  },
  {
   "cell_type": "markdown",
   "id": "c815b428-800d-4767-9ef1-961d4c5df75a",
   "metadata": {},
   "source": [
    "1. Data contains 15509 rows and 10 features.\n",
    "2. Data contains missing values.\n",
    "3. Lowest rating given is 1.1.\n",
    "4. Highest rating given is 10.\n",
    "5. Average rating given is 5.84 we can say 5 or 6.\n",
    "6. Name contains movie titles\n",
    "7. Year has numeric data but object type and also has round brackets\n",
    "8. Duration has numeric data but object type and also has \"min\"\n",
    "9. Genre contains distinct movie categories\n",
    "10. Votes Indicates the number of people who voted or reviewed the movie.\n",
    "11. Director column refers to the director who directed the movie\n",
    "12. Actor columns contains actor names"
   ]
  },
  {
   "cell_type": "markdown",
   "id": "108c9567-0e99-4b89-b0fe-ef0a49cb6c32",
   "metadata": {},
   "source": [
    "### Data Cleaning"
   ]
  },
  {
   "cell_type": "code",
   "execution_count": 19,
   "id": "816a472b-a541-4c2f-b016-20c908679aab",
   "metadata": {},
   "outputs": [],
   "source": [
    "df=df.drop([\"Name\"],axis=1)"
   ]
  },
  {
   "cell_type": "code",
   "execution_count": 20,
   "id": "2f730aa1-af05-4d76-b4b6-818f5929b548",
   "metadata": {},
   "outputs": [],
   "source": [
    "df.dropna(inplace=True)"
   ]
  },
  {
   "cell_type": "code",
   "execution_count": 21,
   "id": "7ddb3f52-e6b8-4e89-8133-0b11fd91d437",
   "metadata": {},
   "outputs": [
    {
     "data": {
      "text/plain": [
       "Series([], dtype: int64)"
      ]
     },
     "execution_count": 21,
     "metadata": {},
     "output_type": "execute_result"
    }
   ],
   "source": [
    "df.isnull().sum()[df.isnull().sum()>0]"
   ]
  },
  {
   "cell_type": "code",
   "execution_count": 22,
   "id": "5015c9ac-c4f7-4bb6-8926-02656595014e",
   "metadata": {},
   "outputs": [
    {
     "data": {
      "text/html": [
       "<div>\n",
       "<style scoped>\n",
       "    .dataframe tbody tr th:only-of-type {\n",
       "        vertical-align: middle;\n",
       "    }\n",
       "\n",
       "    .dataframe tbody tr th {\n",
       "        vertical-align: top;\n",
       "    }\n",
       "\n",
       "    .dataframe thead th {\n",
       "        text-align: right;\n",
       "    }\n",
       "</style>\n",
       "<table border=\"1\" class=\"dataframe\">\n",
       "  <thead>\n",
       "    <tr style=\"text-align: right;\">\n",
       "      <th></th>\n",
       "      <th>Year</th>\n",
       "      <th>Duration</th>\n",
       "      <th>Genre</th>\n",
       "      <th>Rating</th>\n",
       "      <th>Votes</th>\n",
       "      <th>Director</th>\n",
       "      <th>Actor 1</th>\n",
       "      <th>Actor 2</th>\n",
       "      <th>Actor 3</th>\n",
       "    </tr>\n",
       "  </thead>\n",
       "  <tbody>\n",
       "    <tr>\n",
       "      <th>1</th>\n",
       "      <td>(2019)</td>\n",
       "      <td>109 min</td>\n",
       "      <td>Drama</td>\n",
       "      <td>7.0</td>\n",
       "      <td>8</td>\n",
       "      <td>Gaurav Bakshi</td>\n",
       "      <td>Rasika Dugal</td>\n",
       "      <td>Vivek Ghamande</td>\n",
       "      <td>Arvind Jangid</td>\n",
       "    </tr>\n",
       "    <tr>\n",
       "      <th>3</th>\n",
       "      <td>(2019)</td>\n",
       "      <td>110 min</td>\n",
       "      <td>Comedy, Romance</td>\n",
       "      <td>4.4</td>\n",
       "      <td>35</td>\n",
       "      <td>Ovais Khan</td>\n",
       "      <td>Prateik</td>\n",
       "      <td>Ishita Raj</td>\n",
       "      <td>Siddhant Kapoor</td>\n",
       "    </tr>\n",
       "    <tr>\n",
       "      <th>5</th>\n",
       "      <td>(1997)</td>\n",
       "      <td>147 min</td>\n",
       "      <td>Comedy, Drama, Musical</td>\n",
       "      <td>4.7</td>\n",
       "      <td>827</td>\n",
       "      <td>Rahul Rawail</td>\n",
       "      <td>Bobby Deol</td>\n",
       "      <td>Aishwarya Rai Bachchan</td>\n",
       "      <td>Shammi Kapoor</td>\n",
       "    </tr>\n",
       "    <tr>\n",
       "      <th>6</th>\n",
       "      <td>(2005)</td>\n",
       "      <td>142 min</td>\n",
       "      <td>Drama, Romance, War</td>\n",
       "      <td>7.4</td>\n",
       "      <td>1,086</td>\n",
       "      <td>Shoojit Sircar</td>\n",
       "      <td>Jimmy Sheirgill</td>\n",
       "      <td>Minissha Lamba</td>\n",
       "      <td>Yashpal Sharma</td>\n",
       "    </tr>\n",
       "    <tr>\n",
       "      <th>8</th>\n",
       "      <td>(2012)</td>\n",
       "      <td>82 min</td>\n",
       "      <td>Horror, Mystery, Thriller</td>\n",
       "      <td>5.6</td>\n",
       "      <td>326</td>\n",
       "      <td>Allyson Patel</td>\n",
       "      <td>Yash Dave</td>\n",
       "      <td>Muntazir Ahmad</td>\n",
       "      <td>Kiran Bhatia</td>\n",
       "    </tr>\n",
       "  </tbody>\n",
       "</table>\n",
       "</div>"
      ],
      "text/plain": [
       "     Year Duration                      Genre  Rating  Votes        Director  \\\n",
       "1  (2019)  109 min                      Drama     7.0      8   Gaurav Bakshi   \n",
       "3  (2019)  110 min            Comedy, Romance     4.4     35      Ovais Khan   \n",
       "5  (1997)  147 min     Comedy, Drama, Musical     4.7    827    Rahul Rawail   \n",
       "6  (2005)  142 min        Drama, Romance, War     7.4  1,086  Shoojit Sircar   \n",
       "8  (2012)   82 min  Horror, Mystery, Thriller     5.6    326   Allyson Patel   \n",
       "\n",
       "           Actor 1                 Actor 2          Actor 3  \n",
       "1     Rasika Dugal          Vivek Ghamande    Arvind Jangid  \n",
       "3          Prateik              Ishita Raj  Siddhant Kapoor  \n",
       "5       Bobby Deol  Aishwarya Rai Bachchan    Shammi Kapoor  \n",
       "6  Jimmy Sheirgill          Minissha Lamba   Yashpal Sharma  \n",
       "8        Yash Dave          Muntazir Ahmad     Kiran Bhatia  "
      ]
     },
     "execution_count": 22,
     "metadata": {},
     "output_type": "execute_result"
    }
   ],
   "source": [
    "df.head()"
   ]
  },
  {
   "cell_type": "code",
   "execution_count": 23,
   "id": "28384646-91cd-4513-8325-b9981e9d31e3",
   "metadata": {},
   "outputs": [],
   "source": [
    "df.reset_index(drop=True,inplace=True)"
   ]
  },
  {
   "cell_type": "code",
   "execution_count": 24,
   "id": "b6265c2e-dd18-4694-80ab-959ddf8eca3b",
   "metadata": {},
   "outputs": [
    {
     "data": {
      "text/html": [
       "<div>\n",
       "<style scoped>\n",
       "    .dataframe tbody tr th:only-of-type {\n",
       "        vertical-align: middle;\n",
       "    }\n",
       "\n",
       "    .dataframe tbody tr th {\n",
       "        vertical-align: top;\n",
       "    }\n",
       "\n",
       "    .dataframe thead th {\n",
       "        text-align: right;\n",
       "    }\n",
       "</style>\n",
       "<table border=\"1\" class=\"dataframe\">\n",
       "  <thead>\n",
       "    <tr style=\"text-align: right;\">\n",
       "      <th></th>\n",
       "      <th>Year</th>\n",
       "      <th>Duration</th>\n",
       "      <th>Genre</th>\n",
       "      <th>Rating</th>\n",
       "      <th>Votes</th>\n",
       "      <th>Director</th>\n",
       "      <th>Actor 1</th>\n",
       "      <th>Actor 2</th>\n",
       "      <th>Actor 3</th>\n",
       "    </tr>\n",
       "  </thead>\n",
       "  <tbody>\n",
       "    <tr>\n",
       "      <th>0</th>\n",
       "      <td>(2019)</td>\n",
       "      <td>109 min</td>\n",
       "      <td>Drama</td>\n",
       "      <td>7.0</td>\n",
       "      <td>8</td>\n",
       "      <td>Gaurav Bakshi</td>\n",
       "      <td>Rasika Dugal</td>\n",
       "      <td>Vivek Ghamande</td>\n",
       "      <td>Arvind Jangid</td>\n",
       "    </tr>\n",
       "    <tr>\n",
       "      <th>1</th>\n",
       "      <td>(2019)</td>\n",
       "      <td>110 min</td>\n",
       "      <td>Comedy, Romance</td>\n",
       "      <td>4.4</td>\n",
       "      <td>35</td>\n",
       "      <td>Ovais Khan</td>\n",
       "      <td>Prateik</td>\n",
       "      <td>Ishita Raj</td>\n",
       "      <td>Siddhant Kapoor</td>\n",
       "    </tr>\n",
       "    <tr>\n",
       "      <th>2</th>\n",
       "      <td>(1997)</td>\n",
       "      <td>147 min</td>\n",
       "      <td>Comedy, Drama, Musical</td>\n",
       "      <td>4.7</td>\n",
       "      <td>827</td>\n",
       "      <td>Rahul Rawail</td>\n",
       "      <td>Bobby Deol</td>\n",
       "      <td>Aishwarya Rai Bachchan</td>\n",
       "      <td>Shammi Kapoor</td>\n",
       "    </tr>\n",
       "    <tr>\n",
       "      <th>3</th>\n",
       "      <td>(2005)</td>\n",
       "      <td>142 min</td>\n",
       "      <td>Drama, Romance, War</td>\n",
       "      <td>7.4</td>\n",
       "      <td>1,086</td>\n",
       "      <td>Shoojit Sircar</td>\n",
       "      <td>Jimmy Sheirgill</td>\n",
       "      <td>Minissha Lamba</td>\n",
       "      <td>Yashpal Sharma</td>\n",
       "    </tr>\n",
       "    <tr>\n",
       "      <th>4</th>\n",
       "      <td>(2012)</td>\n",
       "      <td>82 min</td>\n",
       "      <td>Horror, Mystery, Thriller</td>\n",
       "      <td>5.6</td>\n",
       "      <td>326</td>\n",
       "      <td>Allyson Patel</td>\n",
       "      <td>Yash Dave</td>\n",
       "      <td>Muntazir Ahmad</td>\n",
       "      <td>Kiran Bhatia</td>\n",
       "    </tr>\n",
       "  </tbody>\n",
       "</table>\n",
       "</div>"
      ],
      "text/plain": [
       "     Year Duration                      Genre  Rating  Votes        Director  \\\n",
       "0  (2019)  109 min                      Drama     7.0      8   Gaurav Bakshi   \n",
       "1  (2019)  110 min            Comedy, Romance     4.4     35      Ovais Khan   \n",
       "2  (1997)  147 min     Comedy, Drama, Musical     4.7    827    Rahul Rawail   \n",
       "3  (2005)  142 min        Drama, Romance, War     7.4  1,086  Shoojit Sircar   \n",
       "4  (2012)   82 min  Horror, Mystery, Thriller     5.6    326   Allyson Patel   \n",
       "\n",
       "           Actor 1                 Actor 2          Actor 3  \n",
       "0     Rasika Dugal          Vivek Ghamande    Arvind Jangid  \n",
       "1          Prateik              Ishita Raj  Siddhant Kapoor  \n",
       "2       Bobby Deol  Aishwarya Rai Bachchan    Shammi Kapoor  \n",
       "3  Jimmy Sheirgill          Minissha Lamba   Yashpal Sharma  \n",
       "4        Yash Dave          Muntazir Ahmad     Kiran Bhatia  "
      ]
     },
     "execution_count": 24,
     "metadata": {},
     "output_type": "execute_result"
    }
   ],
   "source": [
    "df.head()"
   ]
  },
  {
   "cell_type": "code",
   "execution_count": 25,
   "id": "9902548b-0f9d-47ed-b342-a7a0a6c1c871",
   "metadata": {},
   "outputs": [
    {
     "data": {
      "text/plain": [
       "(5659, 9)"
      ]
     },
     "execution_count": 25,
     "metadata": {},
     "output_type": "execute_result"
    }
   ],
   "source": [
    "df.shape"
   ]
  },
  {
   "cell_type": "markdown",
   "id": "86504e65-31ea-4b90-9442-7ee952f1d867",
   "metadata": {},
   "source": [
    "### Converting Datatype"
   ]
  },
  {
   "cell_type": "code",
   "execution_count": 44,
   "id": "21597265-ae0e-4641-8715-53520e76b1b4",
   "metadata": {},
   "outputs": [],
   "source": [
    "df[\"Year\"]=df[\"Year\"].str.replace(r\"\\(|\\)\", \"\",regex=True).astype(int)\n",
    "df[\"Duration\"]=pd.to_numeric(df[\"Duration\"].str.replace(\" min\", \"\"))\n",
    "df[\"Votes\"]=pd.to_numeric(df[\"Votes\"].str.replace(\",\", \"\"))"
   ]
  },
  {
   "cell_type": "markdown",
   "id": "c9cf449d-e7d6-4b94-ad67-7b7d1af48968",
   "metadata": {},
   "source": [
    "1. Year is now an integer column without parentheses.\n",
    "2. Duration is now a numeric column with only the duration in minutes.\n",
    "3. Votes is now a numeric column without commas."
   ]
  },
  {
   "cell_type": "code",
   "execution_count": 47,
   "id": "56a38ac3-5c36-4b1e-84a1-5d0963a9be99",
   "metadata": {},
   "outputs": [
    {
     "name": "stdout",
     "output_type": "stream",
     "text": [
      "<class 'pandas.core.frame.DataFrame'>\n",
      "RangeIndex: 5659 entries, 0 to 5658\n",
      "Data columns (total 9 columns):\n",
      " #   Column    Non-Null Count  Dtype  \n",
      "---  ------    --------------  -----  \n",
      " 0   Year      5659 non-null   int32  \n",
      " 1   Duration  5659 non-null   int64  \n",
      " 2   Genre     5659 non-null   object \n",
      " 3   Rating    5659 non-null   float64\n",
      " 4   Votes     5659 non-null   int64  \n",
      " 5   Director  5659 non-null   object \n",
      " 6   Actor 1   5659 non-null   object \n",
      " 7   Actor 2   5659 non-null   object \n",
      " 8   Actor 3   5659 non-null   object \n",
      "dtypes: float64(1), int32(1), int64(2), object(5)\n",
      "memory usage: 375.9+ KB\n"
     ]
    }
   ],
   "source": [
    "df.info()"
   ]
  },
  {
   "cell_type": "markdown",
   "id": "fd5ac3cb-2454-4975-a081-cb2f48d9c38f",
   "metadata": {},
   "source": [
    "### EDA"
   ]
  },
  {
   "cell_type": "code",
   "execution_count": 50,
   "id": "d5698a5d-9b86-4d16-989f-6b6fb1353a8f",
   "metadata": {},
   "outputs": [
    {
     "data": {
      "text/html": [
       "<div>\n",
       "<style scoped>\n",
       "    .dataframe tbody tr th:only-of-type {\n",
       "        vertical-align: middle;\n",
       "    }\n",
       "\n",
       "    .dataframe tbody tr th {\n",
       "        vertical-align: top;\n",
       "    }\n",
       "\n",
       "    .dataframe thead th {\n",
       "        text-align: right;\n",
       "    }\n",
       "</style>\n",
       "<table border=\"1\" class=\"dataframe\">\n",
       "  <thead>\n",
       "    <tr style=\"text-align: right;\">\n",
       "      <th></th>\n",
       "      <th>Year</th>\n",
       "      <th>Duration</th>\n",
       "      <th>Genre</th>\n",
       "      <th>Rating</th>\n",
       "      <th>Votes</th>\n",
       "      <th>Director</th>\n",
       "      <th>Actor 1</th>\n",
       "      <th>Actor 2</th>\n",
       "      <th>Actor 3</th>\n",
       "    </tr>\n",
       "  </thead>\n",
       "  <tbody>\n",
       "    <tr>\n",
       "      <th>count</th>\n",
       "      <td>5659.000000</td>\n",
       "      <td>5659.000000</td>\n",
       "      <td>5659</td>\n",
       "      <td>5659.000000</td>\n",
       "      <td>5659.000000</td>\n",
       "      <td>5659</td>\n",
       "      <td>5659</td>\n",
       "      <td>5659</td>\n",
       "      <td>5659</td>\n",
       "    </tr>\n",
       "    <tr>\n",
       "      <th>unique</th>\n",
       "      <td>NaN</td>\n",
       "      <td>NaN</td>\n",
       "      <td>376</td>\n",
       "      <td>NaN</td>\n",
       "      <td>NaN</td>\n",
       "      <td>2431</td>\n",
       "      <td>1960</td>\n",
       "      <td>2321</td>\n",
       "      <td>2556</td>\n",
       "    </tr>\n",
       "    <tr>\n",
       "      <th>top</th>\n",
       "      <td>NaN</td>\n",
       "      <td>NaN</td>\n",
       "      <td>Drama</td>\n",
       "      <td>NaN</td>\n",
       "      <td>NaN</td>\n",
       "      <td>David Dhawan</td>\n",
       "      <td>Amitabh Bachchan</td>\n",
       "      <td>Rekha</td>\n",
       "      <td>Pran</td>\n",
       "    </tr>\n",
       "    <tr>\n",
       "      <th>freq</th>\n",
       "      <td>NaN</td>\n",
       "      <td>NaN</td>\n",
       "      <td>844</td>\n",
       "      <td>NaN</td>\n",
       "      <td>NaN</td>\n",
       "      <td>41</td>\n",
       "      <td>104</td>\n",
       "      <td>52</td>\n",
       "      <td>57</td>\n",
       "    </tr>\n",
       "    <tr>\n",
       "      <th>mean</th>\n",
       "      <td>1996.247570</td>\n",
       "      <td>133.439124</td>\n",
       "      <td>NaN</td>\n",
       "      <td>5.898533</td>\n",
       "      <td>2697.649585</td>\n",
       "      <td>NaN</td>\n",
       "      <td>NaN</td>\n",
       "      <td>NaN</td>\n",
       "      <td>NaN</td>\n",
       "    </tr>\n",
       "    <tr>\n",
       "      <th>std</th>\n",
       "      <td>19.741839</td>\n",
       "      <td>25.319939</td>\n",
       "      <td>NaN</td>\n",
       "      <td>1.381165</td>\n",
       "      <td>13651.503584</td>\n",
       "      <td>NaN</td>\n",
       "      <td>NaN</td>\n",
       "      <td>NaN</td>\n",
       "      <td>NaN</td>\n",
       "    </tr>\n",
       "    <tr>\n",
       "      <th>min</th>\n",
       "      <td>1931.000000</td>\n",
       "      <td>21.000000</td>\n",
       "      <td>NaN</td>\n",
       "      <td>1.100000</td>\n",
       "      <td>5.000000</td>\n",
       "      <td>NaN</td>\n",
       "      <td>NaN</td>\n",
       "      <td>NaN</td>\n",
       "      <td>NaN</td>\n",
       "    </tr>\n",
       "    <tr>\n",
       "      <th>25%</th>\n",
       "      <td>1983.000000</td>\n",
       "      <td>119.000000</td>\n",
       "      <td>NaN</td>\n",
       "      <td>5.000000</td>\n",
       "      <td>30.000000</td>\n",
       "      <td>NaN</td>\n",
       "      <td>NaN</td>\n",
       "      <td>NaN</td>\n",
       "      <td>NaN</td>\n",
       "    </tr>\n",
       "    <tr>\n",
       "      <th>50%</th>\n",
       "      <td>2002.000000</td>\n",
       "      <td>135.000000</td>\n",
       "      <td>NaN</td>\n",
       "      <td>6.100000</td>\n",
       "      <td>131.000000</td>\n",
       "      <td>NaN</td>\n",
       "      <td>NaN</td>\n",
       "      <td>NaN</td>\n",
       "      <td>NaN</td>\n",
       "    </tr>\n",
       "    <tr>\n",
       "      <th>75%</th>\n",
       "      <td>2013.000000</td>\n",
       "      <td>150.000000</td>\n",
       "      <td>NaN</td>\n",
       "      <td>6.900000</td>\n",
       "      <td>922.500000</td>\n",
       "      <td>NaN</td>\n",
       "      <td>NaN</td>\n",
       "      <td>NaN</td>\n",
       "      <td>NaN</td>\n",
       "    </tr>\n",
       "    <tr>\n",
       "      <th>max</th>\n",
       "      <td>2021.000000</td>\n",
       "      <td>321.000000</td>\n",
       "      <td>NaN</td>\n",
       "      <td>10.000000</td>\n",
       "      <td>591417.000000</td>\n",
       "      <td>NaN</td>\n",
       "      <td>NaN</td>\n",
       "      <td>NaN</td>\n",
       "      <td>NaN</td>\n",
       "    </tr>\n",
       "  </tbody>\n",
       "</table>\n",
       "</div>"
      ],
      "text/plain": [
       "               Year     Duration  Genre       Rating          Votes  \\\n",
       "count   5659.000000  5659.000000   5659  5659.000000    5659.000000   \n",
       "unique          NaN          NaN    376          NaN            NaN   \n",
       "top             NaN          NaN  Drama          NaN            NaN   \n",
       "freq            NaN          NaN    844          NaN            NaN   \n",
       "mean    1996.247570   133.439124    NaN     5.898533    2697.649585   \n",
       "std       19.741839    25.319939    NaN     1.381165   13651.503584   \n",
       "min     1931.000000    21.000000    NaN     1.100000       5.000000   \n",
       "25%     1983.000000   119.000000    NaN     5.000000      30.000000   \n",
       "50%     2002.000000   135.000000    NaN     6.100000     131.000000   \n",
       "75%     2013.000000   150.000000    NaN     6.900000     922.500000   \n",
       "max     2021.000000   321.000000    NaN    10.000000  591417.000000   \n",
       "\n",
       "            Director           Actor 1 Actor 2 Actor 3  \n",
       "count           5659              5659    5659    5659  \n",
       "unique          2431              1960    2321    2556  \n",
       "top     David Dhawan  Amitabh Bachchan   Rekha    Pran  \n",
       "freq              41               104      52      57  \n",
       "mean             NaN               NaN     NaN     NaN  \n",
       "std              NaN               NaN     NaN     NaN  \n",
       "min              NaN               NaN     NaN     NaN  \n",
       "25%              NaN               NaN     NaN     NaN  \n",
       "50%              NaN               NaN     NaN     NaN  \n",
       "75%              NaN               NaN     NaN     NaN  \n",
       "max              NaN               NaN     NaN     NaN  "
      ]
     },
     "execution_count": 50,
     "metadata": {},
     "output_type": "execute_result"
    }
   ],
   "source": [
    "df.describe(include=\"all\")"
   ]
  },
  {
   "cell_type": "markdown",
   "id": "7ad24afe-81ca-4913-a953-fb5c8a2d3d7a",
   "metadata": {},
   "source": [
    "##### Distribution of numeric features"
   ]
  },
  {
   "cell_type": "code",
   "execution_count": 53,
   "id": "6837fe86-5c73-4f01-a376-654268cf780d",
   "metadata": {},
   "outputs": [
    {
     "data": {
      "text/plain": [
       "<Figure size 300x300 with 0 Axes>"
      ]
     },
     "metadata": {},
     "output_type": "display_data"
    },
    {
     "data": {
      "image/png": "[encoded data removed]",
      "text/plain": [
       "<Figure size 640x480 with 4 Axes>"
      ]
     },
     "metadata": {},
     "output_type": "display_data"
    }
   ],
   "source": [
    "plt.figure(figsize=(3,3))\n",
    "df[[\"Year\",\"Duration\",\"Votes\"]].hist(bins=20, edgecolor=\"red\")\n",
    "plt.suptitle(\"Distribution of numeric features\")\n",
    "plt.show()"
   ]
  },
  {
   "cell_type": "markdown",
   "id": "a93aa27b-caa6-4147-b6fa-4f72a3470b41",
   "metadata": {},
   "source": [
    "##### Univariate Analysis"
   ]
  },
  {
   "cell_type": "markdown",
   "id": "d8a991f8-9177-4737-8b78-5f5d1f41190d",
   "metadata": {},
   "source": [
    "Average rating is around 5 to 6 & Distribution is gaussian."
   ]
  },
  {
   "cell_type": "code",
   "execution_count": 57,
   "id": "416ad3ab-d164-426a-86e2-38c85292a283",
   "metadata": {},
   "outputs": [],
   "source": [
    "# df.Rating.value_counts()\n",
    "# df.Votes.value_counts()\n",
    "# df.Duration.value_counts()"
   ]
  },
  {
   "cell_type": "code",
   "execution_count": 59,
   "id": "f102cca1-dcbd-479f-bba6-b52cd5366d96",
   "metadata": {},
   "outputs": [
    {
     "data": {
      "image/png": "[encoded data removed]",
      "text/plain": [
       "<Figure size 300x300 with 1 Axes>"
      ]
     },
     "metadata": {},
     "output_type": "display_data"
    }
   ],
   "source": [
    "plt.figure(figsize=(3,3))\n",
    "sns.histplot(x=\"Rating\",bins=20,data=df,kde=True)\n",
    "plt.title(\"Distribution of Rating\")\n",
    "plt.show()"
   ]
  },
  {
   "cell_type": "markdown",
   "id": "72daef1c-4a11-4565-b956-58b7884aa8d6",
   "metadata": {},
   "source": [
    "Checking top 10 Directors"
   ]
  },
  {
   "cell_type": "markdown",
   "id": "ed8e4c8a-c06c-4329-b128-98b1a2dd1f04",
   "metadata": {},
   "source": [
    "Jayant Desai, Kanti Shah & Babubhai Mistry directed highest count of movies"
   ]
  },
  {
   "cell_type": "code",
   "execution_count": 62,
   "id": "16fbb953-17bf-4327-9ec3-55ac7c5c9c0e",
   "metadata": {},
   "outputs": [
    {
     "data": {
      "text/plain": [
       "Director\n",
       "David Dhawan            41\n",
       "Mahesh Bhatt            39\n",
       "Ram Gopal Varma         33\n",
       "Hrishikesh Mukherjee    33\n",
       "Shakti Samanta          33\n",
       "Vikram Bhatt            30\n",
       "Priyadarshan            29\n",
       "Basu Chatterjee         23\n",
       "Rama Rao Tatineni       23\n",
       "Shyam Benegal           22\n",
       "Name: count, dtype: int64"
      ]
     },
     "execution_count": 62,
     "metadata": {},
     "output_type": "execute_result"
    }
   ],
   "source": [
    "direc_counts=df.Director.value_counts().head(10)\n",
    "direc_counts"
   ]
  },
  {
   "cell_type": "code",
   "execution_count": 66,
   "id": "0b50d95d-e99b-4612-ba8a-cf8912cde252",
   "metadata": {},
   "outputs": [
    {
     "data": {
      "image/png": "[encoded data removed]",
      "text/plain": [
       "<Figure size 300x300 with 1 Axes>"
      ]
     },
     "metadata": {},
     "output_type": "display_data"
    }
   ],
   "source": [
    "plt.figure(figsize=(3,3))\n",
    "sns.barplot(x=direc_counts.values,y=direc_counts.index,palette=\"coolwarm\")\n",
    "plt.title(\"Top 10 Directors\")\n",
    "plt.xlabel(\"Count\")\n",
    "plt.ylabel(\"Director Names\")\n",
    "plt.show()"
   ]
  },
  {
   "cell_type": "markdown",
   "id": "23328e28-d52b-4699-809d-0f20c1d3563d",
   "metadata": {},
   "source": [
    "##### Categorical Features"
   ]
  },
  {
   "cell_type": "markdown",
   "id": "07bae0b4-7a55-4f40-95cd-01a0eeb8c4ee",
   "metadata": {},
   "source": [
    "Checking top 10 Genre"
   ]
  },
  {
   "cell_type": "markdown",
   "id": "ea9b3541-d52c-473e-b0b0-c93d0d748c6b",
   "metadata": {},
   "source": [
    "Drama, Action & Thriller are the most popular genre"
   ]
  },
  {
   "cell_type": "code",
   "execution_count": 71,
   "id": "a00a930c-7def-49a9-82f8-0c4b8bc7694d",
   "metadata": {},
   "outputs": [
    {
     "data": {
      "text/plain": [
       "Genre\n",
       "Drama                     844\n",
       "Drama, Romance            332\n",
       "Action, Crime, Drama      329\n",
       "Action, Drama             206\n",
       "Comedy, Drama             205\n",
       "Comedy, Drama, Romance    188\n",
       "Comedy                    187\n",
       "Action                    170\n",
       "Drama, Family             160\n",
       "Romance                   126\n",
       "Name: count, dtype: int64"
      ]
     },
     "execution_count": 71,
     "metadata": {},
     "output_type": "execute_result"
    }
   ],
   "source": [
    "genre_counts=df.Genre.value_counts().head(10)\n",
    "genre_counts"
   ]
  },
  {
   "cell_type": "code",
   "execution_count": 78,
   "id": "2eda2198-cb92-4b5c-9f49-40da8e3e16e0",
   "metadata": {},
   "outputs": [
    {
     "data": {
      "image/png": "[encoded data removed]",
      "text/plain": [
       "<Figure size 300x300 with 1 Axes>"
      ]
     },
     "metadata": {},
     "output_type": "display_data"
    }
   ],
   "source": [
    "plt.figure(figsize=(3,3))\n",
    "sns.barplot(x=genre_counts.values,y=genre_counts.index,palette=\"tab10\")\n",
    "plt.xlabel(\"Count\")\n",
    "plt.ylabel(\"Genre\")\n",
    "plt.title(\"Top 10 genres\")\n",
    "plt.show()"
   ]
  },
  {
   "cell_type": "markdown",
   "id": "d28f45bf-2018-4e02-97f6-2e58f7e3d71f",
   "metadata": {},
   "source": [
    "Now Checking top 10 actors"
   ]
  },
  {
   "cell_type": "code",
   "execution_count": 85,
   "id": "534283c3-a86a-40b9-a18e-f2b361b63698",
   "metadata": {},
   "outputs": [],
   "source": [
    "merge_actors=pd.concat([df[\"Actor 1\"],df[\"Actor 2\"],df[\"Actor 3\"]])"
   ]
  },
  {
   "cell_type": "code",
   "execution_count": 87,
   "id": "1b84a723-0dea-4f63-a6a5-b9d512a59c1c",
   "metadata": {},
   "outputs": [
    {
     "data": {
      "text/plain": [
       "Mithun Chakraborty    160\n",
       "Amitabh Bachchan      148\n",
       "Dharmendra            146\n",
       "Ashok Kumar           124\n",
       "Akshay Kumar          120\n",
       "Shashi Kapoor         117\n",
       "Jeetendra             116\n",
       "Sanjay Dutt           101\n",
       "Rekha                  92\n",
       "Ajay Devgn             92\n",
       "Name: count, dtype: int64"
      ]
     },
     "execution_count": 87,
     "metadata": {},
     "output_type": "execute_result"
    }
   ],
   "source": [
    "actor_counts=merge_actors.value_counts().head(10)\n",
    "actor_counts"
   ]
  },
  {
   "cell_type": "code",
   "execution_count": 89,
   "id": "b70e4618-d6d2-4e60-b932-326dba88b5bc",
   "metadata": {},
   "outputs": [
    {
     "data": {
      "image/png": "[encoded data removed]",
      "text/plain": [
       "<Figure size 300x300 with 1 Axes>"
      ]
     },
     "metadata": {},
     "output_type": "display_data"
    }
   ],
   "source": [
    "plt.figure(figsize=(3,3))\n",
    "sns.barplot(x=actor_counts.values,y=actor_counts.index,palette=\"coolwarm\")\n",
    "plt.title(\"Top 10 Actors who did most movies\")\n",
    "plt.xlabel(\"Number of movies done\")\n",
    "plt.ylabel(\"Actor Names\")\n",
    "plt.show()"
   ]
  },
  {
   "cell_type": "markdown",
   "id": "ff3e4b28-be4b-4d22-9448-ddb20bc596eb",
   "metadata": {},
   "source": [
    "##### Correlation Analysis"
   ]
  },
  {
   "cell_type": "markdown",
   "id": "b4ab8e84-de2d-4370-8d26-88dcb224d680",
   "metadata": {},
   "source": [
    "We will check the relationship between numeric features"
   ]
  },
  {
   "cell_type": "code",
   "execution_count": 97,
   "id": "0b2aa31a-6e56-4989-890f-7d7323e268ba",
   "metadata": {},
   "outputs": [
    {
     "data": {
      "text/plain": [
       "Year          int32\n",
       "Duration      int64\n",
       "Genre        object\n",
       "Rating      float64\n",
       "Votes         int64\n",
       "Director     object\n",
       "Actor 1      object\n",
       "Actor 2      object\n",
       "Actor 3      object\n",
       "dtype: object"
      ]
     },
     "execution_count": 97,
     "metadata": {},
     "output_type": "execute_result"
    }
   ],
   "source": [
    "df.dtypes"
   ]
  },
  {
   "cell_type": "code",
   "execution_count": 103,
   "id": "aa6481fc-78e3-43cc-bcfc-b5f156f57a3a",
   "metadata": {},
   "outputs": [
    {
     "data": {
      "image/png": "[encoded data removed]",
      "text/plain": [
       "<Figure size 640x480 with 2 Axes>"
      ]
     },
     "metadata": {},
     "output_type": "display_data"
    }
   ],
   "source": [
    "corr_df=df.drop(columns=[\"Actor 1\",\"Actor 2\",\"Actor 3\",\"Genre\",\"Director\"])\n",
    "corr_matrix=corr_df.corr()\n",
    "sns.heatmap(corr_matrix,annot=True,cmap=\"coolwarm\")\n",
    "plt.title(\"Numeric Features correlation heatmap\")\n",
    "plt.show()"
   ]
  },
  {
   "cell_type": "markdown",
   "id": "3618dafd-3a0f-400b-b6ae-602b62803ed1",
   "metadata": {},
   "source": [
    "Analysis of features against Rating"
   ]
  },
  {
   "cell_type": "code",
   "execution_count": 118,
   "id": "1f967026-0ccf-479f-98e7-026205af3992",
   "metadata": {},
   "outputs": [
    {
     "data": {
      "text/plain": [
       "<Figure size 200x200 with 0 Axes>"
      ]
     },
     "metadata": {},
     "output_type": "display_data"
    },
    {
     "data": {
      "image/png": "[encoded data removed]",
      "text/plain": [
       "<Figure size 1000x1000 with 20 Axes>"
      ]
     },
     "metadata": {},
     "output_type": "display_data"
    }
   ],
   "source": [
    "plt.figure(figsize=(2,2))\n",
    "sns.pairplot(corr_df,diag_kind=\"kde\")\n",
    "plt.suptitle(\"Pairplot of features against rating\",y=1.1)\n",
    "plt.show()"
   ]
  },
  {
   "cell_type": "markdown",
   "id": "e0471608-d165-437f-a9a8-a4e6d982543d",
   "metadata": {},
   "source": [
    "### Feature Engineering"
   ]
  },
  {
   "cell_type": "code",
   "execution_count": 123,
   "id": "08a07eff-4110-4aac-8f29-8c8cd5653ba1",
   "metadata": {},
   "outputs": [
    {
     "data": {
      "text/html": [
       "<div>\n",
       "<style scoped>\n",
       "    .dataframe tbody tr th:only-of-type {\n",
       "        vertical-align: middle;\n",
       "    }\n",
       "\n",
       "    .dataframe tbody tr th {\n",
       "        vertical-align: top;\n",
       "    }\n",
       "\n",
       "    .dataframe thead th {\n",
       "        text-align: right;\n",
       "    }\n",
       "</style>\n",
       "<table border=\"1\" class=\"dataframe\">\n",
       "  <thead>\n",
       "    <tr style=\"text-align: right;\">\n",
       "      <th></th>\n",
       "      <th>Year</th>\n",
       "      <th>Duration</th>\n",
       "      <th>Genre</th>\n",
       "      <th>Rating</th>\n",
       "      <th>Votes</th>\n",
       "      <th>Director</th>\n",
       "      <th>Actor 1</th>\n",
       "      <th>Actor 2</th>\n",
       "      <th>Actor 3</th>\n",
       "    </tr>\n",
       "  </thead>\n",
       "  <tbody>\n",
       "    <tr>\n",
       "      <th>0</th>\n",
       "      <td>2019</td>\n",
       "      <td>109</td>\n",
       "      <td>Drama</td>\n",
       "      <td>7.0</td>\n",
       "      <td>8</td>\n",
       "      <td>Gaurav Bakshi</td>\n",
       "      <td>Rasika Dugal</td>\n",
       "      <td>Vivek Ghamande</td>\n",
       "      <td>Arvind Jangid</td>\n",
       "    </tr>\n",
       "    <tr>\n",
       "      <th>1</th>\n",
       "      <td>2019</td>\n",
       "      <td>110</td>\n",
       "      <td>Comedy, Romance</td>\n",
       "      <td>4.4</td>\n",
       "      <td>35</td>\n",
       "      <td>Ovais Khan</td>\n",
       "      <td>Prateik</td>\n",
       "      <td>Ishita Raj</td>\n",
       "      <td>Siddhant Kapoor</td>\n",
       "    </tr>\n",
       "    <tr>\n",
       "      <th>2</th>\n",
       "      <td>1997</td>\n",
       "      <td>147</td>\n",
       "      <td>Comedy, Drama, Musical</td>\n",
       "      <td>4.7</td>\n",
       "      <td>827</td>\n",
       "      <td>Rahul Rawail</td>\n",
       "      <td>Bobby Deol</td>\n",
       "      <td>Aishwarya Rai Bachchan</td>\n",
       "      <td>Shammi Kapoor</td>\n",
       "    </tr>\n",
       "    <tr>\n",
       "      <th>3</th>\n",
       "      <td>2005</td>\n",
       "      <td>142</td>\n",
       "      <td>Drama, Romance, War</td>\n",
       "      <td>7.4</td>\n",
       "      <td>1086</td>\n",
       "      <td>Shoojit Sircar</td>\n",
       "      <td>Jimmy Sheirgill</td>\n",
       "      <td>Minissha Lamba</td>\n",
       "      <td>Yashpal Sharma</td>\n",
       "    </tr>\n",
       "    <tr>\n",
       "      <th>4</th>\n",
       "      <td>2012</td>\n",
       "      <td>82</td>\n",
       "      <td>Horror, Mystery, Thriller</td>\n",
       "      <td>5.6</td>\n",
       "      <td>326</td>\n",
       "      <td>Allyson Patel</td>\n",
       "      <td>Yash Dave</td>\n",
       "      <td>Muntazir Ahmad</td>\n",
       "      <td>Kiran Bhatia</td>\n",
       "    </tr>\n",
       "  </tbody>\n",
       "</table>\n",
       "</div>"
      ],
      "text/plain": [
       "   Year  Duration                      Genre  Rating  Votes        Director  \\\n",
       "0  2019       109                      Drama     7.0      8   Gaurav Bakshi   \n",
       "1  2019       110            Comedy, Romance     4.4     35      Ovais Khan   \n",
       "2  1997       147     Comedy, Drama, Musical     4.7    827    Rahul Rawail   \n",
       "3  2005       142        Drama, Romance, War     7.4   1086  Shoojit Sircar   \n",
       "4  2012        82  Horror, Mystery, Thriller     5.6    326   Allyson Patel   \n",
       "\n",
       "           Actor 1                 Actor 2          Actor 3  \n",
       "0     Rasika Dugal          Vivek Ghamande    Arvind Jangid  \n",
       "1          Prateik              Ishita Raj  Siddhant Kapoor  \n",
       "2       Bobby Deol  Aishwarya Rai Bachchan    Shammi Kapoor  \n",
       "3  Jimmy Sheirgill          Minissha Lamba   Yashpal Sharma  \n",
       "4        Yash Dave          Muntazir Ahmad     Kiran Bhatia  "
      ]
     },
     "execution_count": 123,
     "metadata": {},
     "output_type": "execute_result"
    }
   ],
   "source": [
    "df.head()"
   ]
  },
  {
   "cell_type": "markdown",
   "id": "2f618eb4-ac5a-44e8-853c-f7743baf150b",
   "metadata": {},
   "source": [
    "we will add new features"
   ]
  },
  {
   "cell_type": "code",
   "execution_count": 130,
   "id": "e4b778a4-0b5f-4e6e-aed7-0536d11b9fcb",
   "metadata": {},
   "outputs": [
    {
     "data": {
      "text/plain": [
       "Index(['Genre', 'Director', 'Actor 1', 'Actor 2', 'Actor 3'], dtype='object')"
      ]
     },
     "execution_count": 130,
     "metadata": {},
     "output_type": "execute_result"
    }
   ],
   "source": [
    "df.select_dtypes(include=\"object\").columns"
   ]
  },
  {
   "cell_type": "code",
   "execution_count": 126,
   "id": "74397bb0-a0ba-4c64-988b-256750a13716",
   "metadata": {},
   "outputs": [
    {
     "data": {
      "text/plain": [
       "Genre\n",
       "Drama                              844\n",
       "Drama, Romance                     332\n",
       "Action, Crime, Drama               329\n",
       "Action, Drama                      206\n",
       "Comedy, Drama                      205\n",
       "                                  ... \n",
       "Comedy, Crime, Musical               1\n",
       "History, Romance                     1\n",
       "Drama, History, Sport                1\n",
       "Animation, Comedy, Drama             1\n",
       "Documentary, Biography, Musical      1\n",
       "Name: count, Length: 376, dtype: int64"
      ]
     },
     "execution_count": 126,
     "metadata": {},
     "output_type": "execute_result"
    }
   ],
   "source": [
    "df.Genre.value_counts()"
   ]
  },
  {
   "cell_type": "code",
   "execution_count": 132,
   "id": "39adaf85-30bc-4566-b3d2-078fe74d2ed0",
   "metadata": {},
   "outputs": [],
   "source": [
    "Genre_avg_rating=df.groupby(\"Genre\")[\"Rating\"].transform(\"mean\")\n",
    "df[\"Genre_avg_rating\"]=Genre_avg_rating\n",
    "\n",
    "Director_avg_rating=df.groupby(\"Director\")[\"Rating\"].transform(\"mean\")\n",
    "df[\"Director_avg_rating\"]=Director_avg_rating\n",
    "\n",
    "Actor1_avg_rating=df.groupby(\"Actor 1\")[\"Rating\"].transform(\"mean\")\n",
    "df[\"Actor1_avg_rating\"]=Actor1_avg_rating\n",
    "\n",
    "Actor2_avg_rating=df.groupby(\"Actor 2\")[\"Rating\"].transform(\"mean\")\n",
    "df[\"Actor2_avg_rating\"]=Actor2_avg_rating\n",
    "\n",
    "Actor3_avg_rating=df.groupby(\"Actor 3\")[\"Rating\"].transform(\"mean\")\n",
    "df[\"Actor3_avg_rating\"]=Actor3_avg_rating"
   ]
  },
  {
   "cell_type": "code",
   "execution_count": 134,
   "id": "2fdb3ea6-5e21-4f1f-8b43-f11e3f4b17c2",
   "metadata": {},
   "outputs": [
    {
     "data": {
      "text/html": [
       "<div>\n",
       "<style scoped>\n",
       "    .dataframe tbody tr th:only-of-type {\n",
       "        vertical-align: middle;\n",
       "    }\n",
       "\n",
       "    .dataframe tbody tr th {\n",
       "        vertical-align: top;\n",
       "    }\n",
       "\n",
       "    .dataframe thead th {\n",
       "        text-align: right;\n",
       "    }\n",
       "</style>\n",
       "<table border=\"1\" class=\"dataframe\">\n",
       "  <thead>\n",
       "    <tr style=\"text-align: right;\">\n",
       "      <th></th>\n",
       "      <th>Year</th>\n",
       "      <th>Duration</th>\n",
       "      <th>Genre</th>\n",
       "      <th>Rating</th>\n",
       "      <th>Votes</th>\n",
       "      <th>Director</th>\n",
       "      <th>Actor 1</th>\n",
       "      <th>Actor 2</th>\n",
       "      <th>Actor 3</th>\n",
       "      <th>Genre_avg_rating</th>\n",
       "      <th>Director_avg_rating</th>\n",
       "      <th>Actor1_avg_rating</th>\n",
       "      <th>Actor2_avg_rating</th>\n",
       "      <th>Actor3_avg_rating</th>\n",
       "    </tr>\n",
       "  </thead>\n",
       "  <tbody>\n",
       "    <tr>\n",
       "      <th>0</th>\n",
       "      <td>2019</td>\n",
       "      <td>109</td>\n",
       "      <td>Drama</td>\n",
       "      <td>7.0</td>\n",
       "      <td>8</td>\n",
       "      <td>Gaurav Bakshi</td>\n",
       "      <td>Rasika Dugal</td>\n",
       "      <td>Vivek Ghamande</td>\n",
       "      <td>Arvind Jangid</td>\n",
       "      <td>6.415521</td>\n",
       "      <td>7.000000</td>\n",
       "      <td>6.850000</td>\n",
       "      <td>7.000000</td>\n",
       "      <td>7.000000</td>\n",
       "    </tr>\n",
       "    <tr>\n",
       "      <th>1</th>\n",
       "      <td>2019</td>\n",
       "      <td>110</td>\n",
       "      <td>Comedy, Romance</td>\n",
       "      <td>4.4</td>\n",
       "      <td>35</td>\n",
       "      <td>Ovais Khan</td>\n",
       "      <td>Prateik</td>\n",
       "      <td>Ishita Raj</td>\n",
       "      <td>Siddhant Kapoor</td>\n",
       "      <td>5.716822</td>\n",
       "      <td>4.400000</td>\n",
       "      <td>5.420000</td>\n",
       "      <td>4.400000</td>\n",
       "      <td>4.450000</td>\n",
       "    </tr>\n",
       "    <tr>\n",
       "      <th>2</th>\n",
       "      <td>1997</td>\n",
       "      <td>147</td>\n",
       "      <td>Comedy, Drama, Musical</td>\n",
       "      <td>4.7</td>\n",
       "      <td>827</td>\n",
       "      <td>Rahul Rawail</td>\n",
       "      <td>Bobby Deol</td>\n",
       "      <td>Aishwarya Rai Bachchan</td>\n",
       "      <td>Shammi Kapoor</td>\n",
       "      <td>6.242222</td>\n",
       "      <td>5.313333</td>\n",
       "      <td>4.788889</td>\n",
       "      <td>5.786667</td>\n",
       "      <td>5.872727</td>\n",
       "    </tr>\n",
       "    <tr>\n",
       "      <th>3</th>\n",
       "      <td>2005</td>\n",
       "      <td>142</td>\n",
       "      <td>Drama, Romance, War</td>\n",
       "      <td>7.4</td>\n",
       "      <td>1086</td>\n",
       "      <td>Shoojit Sircar</td>\n",
       "      <td>Jimmy Sheirgill</td>\n",
       "      <td>Minissha Lamba</td>\n",
       "      <td>Yashpal Sharma</td>\n",
       "      <td>6.820000</td>\n",
       "      <td>7.383333</td>\n",
       "      <td>5.435000</td>\n",
       "      <td>6.933333</td>\n",
       "      <td>6.500000</td>\n",
       "    </tr>\n",
       "    <tr>\n",
       "      <th>4</th>\n",
       "      <td>2012</td>\n",
       "      <td>82</td>\n",
       "      <td>Horror, Mystery, Thriller</td>\n",
       "      <td>5.6</td>\n",
       "      <td>326</td>\n",
       "      <td>Allyson Patel</td>\n",
       "      <td>Yash Dave</td>\n",
       "      <td>Muntazir Ahmad</td>\n",
       "      <td>Kiran Bhatia</td>\n",
       "      <td>5.477778</td>\n",
       "      <td>5.600000</td>\n",
       "      <td>5.600000</td>\n",
       "      <td>5.883333</td>\n",
       "      <td>5.600000</td>\n",
       "    </tr>\n",
       "  </tbody>\n",
       "</table>\n",
       "</div>"
      ],
      "text/plain": [
       "   Year  Duration                      Genre  Rating  Votes        Director  \\\n",
       "0  2019       109                      Drama     7.0      8   Gaurav Bakshi   \n",
       "1  2019       110            Comedy, Romance     4.4     35      Ovais Khan   \n",
       "2  1997       147     Comedy, Drama, Musical     4.7    827    Rahul Rawail   \n",
       "3  2005       142        Drama, Romance, War     7.4   1086  Shoojit Sircar   \n",
       "4  2012        82  Horror, Mystery, Thriller     5.6    326   Allyson Patel   \n",
       "\n",
       "           Actor 1                 Actor 2          Actor 3  Genre_avg_rating  \\\n",
       "0     Rasika Dugal          Vivek Ghamande    Arvind Jangid          6.415521   \n",
       "1          Prateik              Ishita Raj  Siddhant Kapoor          5.716822   \n",
       "2       Bobby Deol  Aishwarya Rai Bachchan    Shammi Kapoor          6.242222   \n",
       "3  Jimmy Sheirgill          Minissha Lamba   Yashpal Sharma          6.820000   \n",
       "4        Yash Dave          Muntazir Ahmad     Kiran Bhatia          5.477778   \n",
       "\n",
       "   Director_avg_rating  Actor1_avg_rating  Actor2_avg_rating  \\\n",
       "0             7.000000           6.850000           7.000000   \n",
       "1             4.400000           5.420000           4.400000   \n",
       "2             5.313333           4.788889           5.786667   \n",
       "3             7.383333           5.435000           6.933333   \n",
       "4             5.600000           5.600000           5.883333   \n",
       "\n",
       "   Actor3_avg_rating  \n",
       "0           7.000000  \n",
       "1           4.450000  \n",
       "2           5.872727  \n",
       "3           6.500000  \n",
       "4           5.600000  "
      ]
     },
     "execution_count": 134,
     "metadata": {},
     "output_type": "execute_result"
    }
   ],
   "source": [
    "df.head()"
   ]
  },
  {
   "cell_type": "markdown",
   "id": "efefeea2-03f1-4725-9926-233a263c35cb",
   "metadata": {},
   "source": [
    "### Sampling"
   ]
  },
  {
   "cell_type": "code",
   "execution_count": 138,
   "id": "41f39695-51be-4f42-ab6f-ba52d03d9650",
   "metadata": {},
   "outputs": [
    {
     "data": {
      "text/plain": [
       "Index(['Year', 'Duration', 'Genre', 'Rating', 'Votes', 'Director', 'Actor 1',\n",
       "       'Actor 2', 'Actor 3', 'Genre_avg_rating', 'Director_avg_rating',\n",
       "       'Actor1_avg_rating', 'Actor2_avg_rating', 'Actor3_avg_rating'],\n",
       "      dtype='object')"
      ]
     },
     "execution_count": 138,
     "metadata": {},
     "output_type": "execute_result"
    }
   ],
   "source": [
    "df.columns"
   ]
  },
  {
   "cell_type": "code",
   "execution_count": 148,
   "id": "ac3d701a-2c7e-40bd-a511-d68946810e60",
   "metadata": {},
   "outputs": [],
   "source": [
    "df2=df[['Year','Duration','Votes','Genre_avg_rating', 'Director_avg_rating',\n",
    "        'Actor1_avg_rating', 'Actor2_avg_rating', 'Actor3_avg_rating',\"Rating\"]]"
   ]
  },
  {
   "cell_type": "code",
   "execution_count": 150,
   "id": "6cdc4784-c495-4f1c-8e8b-f5c9ab667a60",
   "metadata": {},
   "outputs": [
    {
     "data": {
      "text/html": [
       "<div>\n",
       "<style scoped>\n",
       "    .dataframe tbody tr th:only-of-type {\n",
       "        vertical-align: middle;\n",
       "    }\n",
       "\n",
       "    .dataframe tbody tr th {\n",
       "        vertical-align: top;\n",
       "    }\n",
       "\n",
       "    .dataframe thead th {\n",
       "        text-align: right;\n",
       "    }\n",
       "</style>\n",
       "<table border=\"1\" class=\"dataframe\">\n",
       "  <thead>\n",
       "    <tr style=\"text-align: right;\">\n",
       "      <th></th>\n",
       "      <th>Year</th>\n",
       "      <th>Duration</th>\n",
       "      <th>Votes</th>\n",
       "      <th>Genre_avg_rating</th>\n",
       "      <th>Director_avg_rating</th>\n",
       "      <th>Actor1_avg_rating</th>\n",
       "      <th>Actor2_avg_rating</th>\n",
       "      <th>Actor3_avg_rating</th>\n",
       "      <th>Rating</th>\n",
       "    </tr>\n",
       "  </thead>\n",
       "  <tbody>\n",
       "    <tr>\n",
       "      <th>0</th>\n",
       "      <td>2019</td>\n",
       "      <td>109</td>\n",
       "      <td>8</td>\n",
       "      <td>6.415521</td>\n",
       "      <td>7.000000</td>\n",
       "      <td>6.850000</td>\n",
       "      <td>7.000000</td>\n",
       "      <td>7.000000</td>\n",
       "      <td>7.0</td>\n",
       "    </tr>\n",
       "    <tr>\n",
       "      <th>1</th>\n",
       "      <td>2019</td>\n",
       "      <td>110</td>\n",
       "      <td>35</td>\n",
       "      <td>5.716822</td>\n",
       "      <td>4.400000</td>\n",
       "      <td>5.420000</td>\n",
       "      <td>4.400000</td>\n",
       "      <td>4.450000</td>\n",
       "      <td>4.4</td>\n",
       "    </tr>\n",
       "    <tr>\n",
       "      <th>2</th>\n",
       "      <td>1997</td>\n",
       "      <td>147</td>\n",
       "      <td>827</td>\n",
       "      <td>6.242222</td>\n",
       "      <td>5.313333</td>\n",
       "      <td>4.788889</td>\n",
       "      <td>5.786667</td>\n",
       "      <td>5.872727</td>\n",
       "      <td>4.7</td>\n",
       "    </tr>\n",
       "    <tr>\n",
       "      <th>3</th>\n",
       "      <td>2005</td>\n",
       "      <td>142</td>\n",
       "      <td>1086</td>\n",
       "      <td>6.820000</td>\n",
       "      <td>7.383333</td>\n",
       "      <td>5.435000</td>\n",
       "      <td>6.933333</td>\n",
       "      <td>6.500000</td>\n",
       "      <td>7.4</td>\n",
       "    </tr>\n",
       "    <tr>\n",
       "      <th>4</th>\n",
       "      <td>2012</td>\n",
       "      <td>82</td>\n",
       "      <td>326</td>\n",
       "      <td>5.477778</td>\n",
       "      <td>5.600000</td>\n",
       "      <td>5.600000</td>\n",
       "      <td>5.883333</td>\n",
       "      <td>5.600000</td>\n",
       "      <td>5.6</td>\n",
       "    </tr>\n",
       "  </tbody>\n",
       "</table>\n",
       "</div>"
      ],
      "text/plain": [
       "   Year  Duration  Votes  Genre_avg_rating  Director_avg_rating  \\\n",
       "0  2019       109      8          6.415521             7.000000   \n",
       "1  2019       110     35          5.716822             4.400000   \n",
       "2  1997       147    827          6.242222             5.313333   \n",
       "3  2005       142   1086          6.820000             7.383333   \n",
       "4  2012        82    326          5.477778             5.600000   \n",
       "\n",
       "   Actor1_avg_rating  Actor2_avg_rating  Actor3_avg_rating  Rating  \n",
       "0           6.850000           7.000000           7.000000     7.0  \n",
       "1           5.420000           4.400000           4.450000     4.4  \n",
       "2           4.788889           5.786667           5.872727     4.7  \n",
       "3           5.435000           6.933333           6.500000     7.4  \n",
       "4           5.600000           5.883333           5.600000     5.6  "
      ]
     },
     "execution_count": 150,
     "metadata": {},
     "output_type": "execute_result"
    }
   ],
   "source": [
    "df2.head()"
   ]
  },
  {
   "cell_type": "code",
   "execution_count": 154,
   "id": "b45e51eb-2ef4-4048-9e8a-55a9fb1fcfd2",
   "metadata": {},
   "outputs": [
    {
     "data": {
      "text/plain": [
       "(5659, 9)"
      ]
     },
     "execution_count": 154,
     "metadata": {},
     "output_type": "execute_result"
    }
   ],
   "source": [
    "df2.shape"
   ]
  },
  {
   "cell_type": "code",
   "execution_count": 146,
   "id": "5bf2f2f7-5ebd-42f9-bea0-7915bfbff30e",
   "metadata": {},
   "outputs": [],
   "source": [
    "from sklearn.model_selection import train_test_split\n",
    "df2_train,df2_test=train_test_split(df2,test_size=.2,random_state=200)"
   ]
  },
  {
   "cell_type": "code",
   "execution_count": 156,
   "id": "7775f15f-d54b-4779-98ef-7fbebbc285ec",
   "metadata": {},
   "outputs": [],
   "source": [
    "df2_train_x=df2.iloc[:,:-1]\n",
    "df2_train_y=df2[\"Rating\"]\n",
    "df2_test_x=df2.iloc[:,:-1]\n",
    "df2_test_y=df2[\"Rating\"]"
   ]
  },
  {
   "cell_type": "code",
   "execution_count": 158,
   "id": "9d0deff5-4704-475d-8b03-60353d487d9a",
   "metadata": {},
   "outputs": [
    {
     "data": {
      "text/html": [
       "<div>\n",
       "<style scoped>\n",
       "    .dataframe tbody tr th:only-of-type {\n",
       "        vertical-align: middle;\n",
       "    }\n",
       "\n",
       "    .dataframe tbody tr th {\n",
       "        vertical-align: top;\n",
       "    }\n",
       "\n",
       "    .dataframe thead th {\n",
       "        text-align: right;\n",
       "    }\n",
       "</style>\n",
       "<table border=\"1\" class=\"dataframe\">\n",
       "  <thead>\n",
       "    <tr style=\"text-align: right;\">\n",
       "      <th></th>\n",
       "      <th>Year</th>\n",
       "      <th>Duration</th>\n",
       "      <th>Votes</th>\n",
       "      <th>Genre_avg_rating</th>\n",
       "      <th>Director_avg_rating</th>\n",
       "      <th>Actor1_avg_rating</th>\n",
       "      <th>Actor2_avg_rating</th>\n",
       "      <th>Actor3_avg_rating</th>\n",
       "    </tr>\n",
       "  </thead>\n",
       "  <tbody>\n",
       "    <tr>\n",
       "      <th>0</th>\n",
       "      <td>2019</td>\n",
       "      <td>109</td>\n",
       "      <td>8</td>\n",
       "      <td>6.415521</td>\n",
       "      <td>7.000000</td>\n",
       "      <td>6.850000</td>\n",
       "      <td>7.000000</td>\n",
       "      <td>7.000000</td>\n",
       "    </tr>\n",
       "    <tr>\n",
       "      <th>1</th>\n",
       "      <td>2019</td>\n",
       "      <td>110</td>\n",
       "      <td>35</td>\n",
       "      <td>5.716822</td>\n",
       "      <td>4.400000</td>\n",
       "      <td>5.420000</td>\n",
       "      <td>4.400000</td>\n",
       "      <td>4.450000</td>\n",
       "    </tr>\n",
       "    <tr>\n",
       "      <th>2</th>\n",
       "      <td>1997</td>\n",
       "      <td>147</td>\n",
       "      <td>827</td>\n",
       "      <td>6.242222</td>\n",
       "      <td>5.313333</td>\n",
       "      <td>4.788889</td>\n",
       "      <td>5.786667</td>\n",
       "      <td>5.872727</td>\n",
       "    </tr>\n",
       "    <tr>\n",
       "      <th>3</th>\n",
       "      <td>2005</td>\n",
       "      <td>142</td>\n",
       "      <td>1086</td>\n",
       "      <td>6.820000</td>\n",
       "      <td>7.383333</td>\n",
       "      <td>5.435000</td>\n",
       "      <td>6.933333</td>\n",
       "      <td>6.500000</td>\n",
       "    </tr>\n",
       "    <tr>\n",
       "      <th>4</th>\n",
       "      <td>2012</td>\n",
       "      <td>82</td>\n",
       "      <td>326</td>\n",
       "      <td>5.477778</td>\n",
       "      <td>5.600000</td>\n",
       "      <td>5.600000</td>\n",
       "      <td>5.883333</td>\n",
       "      <td>5.600000</td>\n",
       "    </tr>\n",
       "    <tr>\n",
       "      <th>...</th>\n",
       "      <td>...</td>\n",
       "      <td>...</td>\n",
       "      <td>...</td>\n",
       "      <td>...</td>\n",
       "      <td>...</td>\n",
       "      <td>...</td>\n",
       "      <td>...</td>\n",
       "      <td>...</td>\n",
       "    </tr>\n",
       "    <tr>\n",
       "      <th>5654</th>\n",
       "      <td>2015</td>\n",
       "      <td>115</td>\n",
       "      <td>408</td>\n",
       "      <td>6.415521</td>\n",
       "      <td>6.100000</td>\n",
       "      <td>6.725000</td>\n",
       "      <td>6.100000</td>\n",
       "      <td>5.850000</td>\n",
       "    </tr>\n",
       "    <tr>\n",
       "      <th>5655</th>\n",
       "      <td>2001</td>\n",
       "      <td>153</td>\n",
       "      <td>1496</td>\n",
       "      <td>6.950000</td>\n",
       "      <td>7.250000</td>\n",
       "      <td>4.157143</td>\n",
       "      <td>5.823077</td>\n",
       "      <td>5.954545</td>\n",
       "    </tr>\n",
       "    <tr>\n",
       "      <th>5656</th>\n",
       "      <td>1989</td>\n",
       "      <td>125</td>\n",
       "      <td>44</td>\n",
       "      <td>5.743465</td>\n",
       "      <td>6.270000</td>\n",
       "      <td>6.307692</td>\n",
       "      <td>5.800000</td>\n",
       "      <td>6.050000</td>\n",
       "    </tr>\n",
       "    <tr>\n",
       "      <th>5657</th>\n",
       "      <td>1999</td>\n",
       "      <td>129</td>\n",
       "      <td>655</td>\n",
       "      <td>5.516505</td>\n",
       "      <td>5.225000</td>\n",
       "      <td>5.481707</td>\n",
       "      <td>4.640000</td>\n",
       "      <td>5.737500</td>\n",
       "    </tr>\n",
       "    <tr>\n",
       "      <th>5658</th>\n",
       "      <td>1998</td>\n",
       "      <td>130</td>\n",
       "      <td>20</td>\n",
       "      <td>5.516505</td>\n",
       "      <td>4.171429</td>\n",
       "      <td>5.926667</td>\n",
       "      <td>5.686364</td>\n",
       "      <td>5.850000</td>\n",
       "    </tr>\n",
       "  </tbody>\n",
       "</table>\n",
       "<p>5659 rows × 8 columns</p>\n",
       "</div>"
      ],
      "text/plain": [
       "      Year  Duration  Votes  Genre_avg_rating  Director_avg_rating  \\\n",
       "0     2019       109      8          6.415521             7.000000   \n",
       "1     2019       110     35          5.716822             4.400000   \n",
       "2     1997       147    827          6.242222             5.313333   \n",
       "3     2005       142   1086          6.820000             7.383333   \n",
       "4     2012        82    326          5.477778             5.600000   \n",
       "...    ...       ...    ...               ...                  ...   \n",
       "5654  2015       115    408          6.415521             6.100000   \n",
       "5655  2001       153   1496          6.950000             7.250000   \n",
       "5656  1989       125     44          5.743465             6.270000   \n",
       "5657  1999       129    655          5.516505             5.225000   \n",
       "5658  1998       130     20          5.516505             4.171429   \n",
       "\n",
       "      Actor1_avg_rating  Actor2_avg_rating  Actor3_avg_rating  \n",
       "0              6.850000           7.000000           7.000000  \n",
       "1              5.420000           4.400000           4.450000  \n",
       "2              4.788889           5.786667           5.872727  \n",
       "3              5.435000           6.933333           6.500000  \n",
       "4              5.600000           5.883333           5.600000  \n",
       "...                 ...                ...                ...  \n",
       "5654           6.725000           6.100000           5.850000  \n",
       "5655           4.157143           5.823077           5.954545  \n",
       "5656           6.307692           5.800000           6.050000  \n",
       "5657           5.481707           4.640000           5.737500  \n",
       "5658           5.926667           5.686364           5.850000  \n",
       "\n",
       "[5659 rows x 8 columns]"
      ]
     },
     "execution_count": 158,
     "metadata": {},
     "output_type": "execute_result"
    }
   ],
   "source": [
    "df2_train_x"
   ]
  },
  {
   "cell_type": "code",
   "execution_count": 160,
   "id": "f7da3ab9-f1e0-4e80-a495-2ac5344ede06",
   "metadata": {},
   "outputs": [
    {
     "data": {
      "text/plain": [
       "0       7.0\n",
       "1       4.4\n",
       "2       4.7\n",
       "3       7.4\n",
       "4       5.6\n",
       "       ... \n",
       "5654    6.1\n",
       "5655    6.2\n",
       "5656    5.8\n",
       "5657    4.5\n",
       "5658    6.2\n",
       "Name: Rating, Length: 5659, dtype: float64"
      ]
     },
     "execution_count": 160,
     "metadata": {},
     "output_type": "execute_result"
    }
   ],
   "source": [
    "df2_train_y"
   ]
  },
  {
   "cell_type": "code",
   "execution_count": 162,
   "id": "8ab72af4-c047-4da9-9e50-4973f9c13443",
   "metadata": {},
   "outputs": [
    {
     "data": {
      "text/html": [
       "<div>\n",
       "<style scoped>\n",
       "    .dataframe tbody tr th:only-of-type {\n",
       "        vertical-align: middle;\n",
       "    }\n",
       "\n",
       "    .dataframe tbody tr th {\n",
       "        vertical-align: top;\n",
       "    }\n",
       "\n",
       "    .dataframe thead th {\n",
       "        text-align: right;\n",
       "    }\n",
       "</style>\n",
       "<table border=\"1\" class=\"dataframe\">\n",
       "  <thead>\n",
       "    <tr style=\"text-align: right;\">\n",
       "      <th></th>\n",
       "      <th>Year</th>\n",
       "      <th>Duration</th>\n",
       "      <th>Votes</th>\n",
       "      <th>Genre_avg_rating</th>\n",
       "      <th>Director_avg_rating</th>\n",
       "      <th>Actor1_avg_rating</th>\n",
       "      <th>Actor2_avg_rating</th>\n",
       "      <th>Actor3_avg_rating</th>\n",
       "    </tr>\n",
       "  </thead>\n",
       "  <tbody>\n",
       "    <tr>\n",
       "      <th>0</th>\n",
       "      <td>2019</td>\n",
       "      <td>109</td>\n",
       "      <td>8</td>\n",
       "      <td>6.415521</td>\n",
       "      <td>7.000000</td>\n",
       "      <td>6.850000</td>\n",
       "      <td>7.000000</td>\n",
       "      <td>7.000000</td>\n",
       "    </tr>\n",
       "    <tr>\n",
       "      <th>1</th>\n",
       "      <td>2019</td>\n",
       "      <td>110</td>\n",
       "      <td>35</td>\n",
       "      <td>5.716822</td>\n",
       "      <td>4.400000</td>\n",
       "      <td>5.420000</td>\n",
       "      <td>4.400000</td>\n",
       "      <td>4.450000</td>\n",
       "    </tr>\n",
       "    <tr>\n",
       "      <th>2</th>\n",
       "      <td>1997</td>\n",
       "      <td>147</td>\n",
       "      <td>827</td>\n",
       "      <td>6.242222</td>\n",
       "      <td>5.313333</td>\n",
       "      <td>4.788889</td>\n",
       "      <td>5.786667</td>\n",
       "      <td>5.872727</td>\n",
       "    </tr>\n",
       "    <tr>\n",
       "      <th>3</th>\n",
       "      <td>2005</td>\n",
       "      <td>142</td>\n",
       "      <td>1086</td>\n",
       "      <td>6.820000</td>\n",
       "      <td>7.383333</td>\n",
       "      <td>5.435000</td>\n",
       "      <td>6.933333</td>\n",
       "      <td>6.500000</td>\n",
       "    </tr>\n",
       "    <tr>\n",
       "      <th>4</th>\n",
       "      <td>2012</td>\n",
       "      <td>82</td>\n",
       "      <td>326</td>\n",
       "      <td>5.477778</td>\n",
       "      <td>5.600000</td>\n",
       "      <td>5.600000</td>\n",
       "      <td>5.883333</td>\n",
       "      <td>5.600000</td>\n",
       "    </tr>\n",
       "    <tr>\n",
       "      <th>...</th>\n",
       "      <td>...</td>\n",
       "      <td>...</td>\n",
       "      <td>...</td>\n",
       "      <td>...</td>\n",
       "      <td>...</td>\n",
       "      <td>...</td>\n",
       "      <td>...</td>\n",
       "      <td>...</td>\n",
       "    </tr>\n",
       "    <tr>\n",
       "      <th>5654</th>\n",
       "      <td>2015</td>\n",
       "      <td>115</td>\n",
       "      <td>408</td>\n",
       "      <td>6.415521</td>\n",
       "      <td>6.100000</td>\n",
       "      <td>6.725000</td>\n",
       "      <td>6.100000</td>\n",
       "      <td>5.850000</td>\n",
       "    </tr>\n",
       "    <tr>\n",
       "      <th>5655</th>\n",
       "      <td>2001</td>\n",
       "      <td>153</td>\n",
       "      <td>1496</td>\n",
       "      <td>6.950000</td>\n",
       "      <td>7.250000</td>\n",
       "      <td>4.157143</td>\n",
       "      <td>5.823077</td>\n",
       "      <td>5.954545</td>\n",
       "    </tr>\n",
       "    <tr>\n",
       "      <th>5656</th>\n",
       "      <td>1989</td>\n",
       "      <td>125</td>\n",
       "      <td>44</td>\n",
       "      <td>5.743465</td>\n",
       "      <td>6.270000</td>\n",
       "      <td>6.307692</td>\n",
       "      <td>5.800000</td>\n",
       "      <td>6.050000</td>\n",
       "    </tr>\n",
       "    <tr>\n",
       "      <th>5657</th>\n",
       "      <td>1999</td>\n",
       "      <td>129</td>\n",
       "      <td>655</td>\n",
       "      <td>5.516505</td>\n",
       "      <td>5.225000</td>\n",
       "      <td>5.481707</td>\n",
       "      <td>4.640000</td>\n",
       "      <td>5.737500</td>\n",
       "    </tr>\n",
       "    <tr>\n",
       "      <th>5658</th>\n",
       "      <td>1998</td>\n",
       "      <td>130</td>\n",
       "      <td>20</td>\n",
       "      <td>5.516505</td>\n",
       "      <td>4.171429</td>\n",
       "      <td>5.926667</td>\n",
       "      <td>5.686364</td>\n",
       "      <td>5.850000</td>\n",
       "    </tr>\n",
       "  </tbody>\n",
       "</table>\n",
       "<p>5659 rows × 8 columns</p>\n",
       "</div>"
      ],
      "text/plain": [
       "      Year  Duration  Votes  Genre_avg_rating  Director_avg_rating  \\\n",
       "0     2019       109      8          6.415521             7.000000   \n",
       "1     2019       110     35          5.716822             4.400000   \n",
       "2     1997       147    827          6.242222             5.313333   \n",
       "3     2005       142   1086          6.820000             7.383333   \n",
       "4     2012        82    326          5.477778             5.600000   \n",
       "...    ...       ...    ...               ...                  ...   \n",
       "5654  2015       115    408          6.415521             6.100000   \n",
       "5655  2001       153   1496          6.950000             7.250000   \n",
       "5656  1989       125     44          5.743465             6.270000   \n",
       "5657  1999       129    655          5.516505             5.225000   \n",
       "5658  1998       130     20          5.516505             4.171429   \n",
       "\n",
       "      Actor1_avg_rating  Actor2_avg_rating  Actor3_avg_rating  \n",
       "0              6.850000           7.000000           7.000000  \n",
       "1              5.420000           4.400000           4.450000  \n",
       "2              4.788889           5.786667           5.872727  \n",
       "3              5.435000           6.933333           6.500000  \n",
       "4              5.600000           5.883333           5.600000  \n",
       "...                 ...                ...                ...  \n",
       "5654           6.725000           6.100000           5.850000  \n",
       "5655           4.157143           5.823077           5.954545  \n",
       "5656           6.307692           5.800000           6.050000  \n",
       "5657           5.481707           4.640000           5.737500  \n",
       "5658           5.926667           5.686364           5.850000  \n",
       "\n",
       "[5659 rows x 8 columns]"
      ]
     },
     "execution_count": 162,
     "metadata": {},
     "output_type": "execute_result"
    }
   ],
   "source": [
    "df2_test_x"
   ]
  },
  {
   "cell_type": "code",
   "execution_count": 164,
   "id": "2f3b36b0-187c-495a-a7a2-7ae00e387760",
   "metadata": {},
   "outputs": [
    {
     "data": {
      "text/plain": [
       "0       7.0\n",
       "1       4.4\n",
       "2       4.7\n",
       "3       7.4\n",
       "4       5.6\n",
       "       ... \n",
       "5654    6.1\n",
       "5655    6.2\n",
       "5656    5.8\n",
       "5657    4.5\n",
       "5658    6.2\n",
       "Name: Rating, Length: 5659, dtype: float64"
      ]
     },
     "execution_count": 164,
     "metadata": {},
     "output_type": "execute_result"
    }
   ],
   "source": [
    "df2_test_y"
   ]
  },
  {
   "cell_type": "markdown",
   "id": "34d6a3a2-0366-4b8e-b0c1-6c15721297a8",
   "metadata": {},
   "source": [
    "### Model Building"
   ]
  },
  {
   "cell_type": "code",
   "execution_count": 166,
   "id": "61581842-0ad0-4cae-b27a-181539bb4f90",
   "metadata": {},
   "outputs": [
    {
     "data": {
      "text/html": [
       "<style>#sk-container-id-1 {\n",
       "  /* Definition of color scheme common for light and dark mode */\n",
       "  --sklearn-color-text: black;\n",
       "  --sklearn-color-line: gray;\n",
       "  /* Definition of color scheme for unfitted estimators */\n",
       "  --sklearn-color-unfitted-level-0: #fff5e6;\n",
       "  --sklearn-color-unfitted-level-1: #f6e4d2;\n",
       "  --sklearn-color-unfitted-level-2: #ffe0b3;\n",
       "  --sklearn-color-unfitted-level-3: chocolate;\n",
       "  /* Definition of color scheme for fitted estimators */\n",
       "  --sklearn-color-fitted-level-0: #f0f8ff;\n",
       "  --sklearn-color-fitted-level-1: #d4ebff;\n",
       "  --sklearn-color-fitted-level-2: #b3dbfd;\n",
       "  --sklearn-color-fitted-level-3: cornflowerblue;\n",
       "\n",
       "  /* Specific color for light theme */\n",
       "  --sklearn-color-text-on-default-background: var(--sg-text-color, var(--theme-code-foreground, var(--jp-content-font-color1, black)));\n",
       "  --sklearn-color-background: var(--sg-background-color, var(--theme-background, var(--jp-layout-color0, white)));\n",
       "  --sklearn-color-border-box: var(--sg-text-color, var(--theme-code-foreground, var(--jp-content-font-color1, black)));\n",
       "  --sklearn-color-icon: #696969;\n",
       "\n",
       "  @media (prefers-color-scheme: dark) {\n",
       "    /* Redefinition of color scheme for dark theme */\n",
       "    --sklearn-color-text-on-default-background: var(--sg-text-color, var(--theme-code-foreground, var(--jp-content-font-color1, white)));\n",
       "    --sklearn-color-background: var(--sg-background-color, var(--theme-background, var(--jp-layout-color0, #111)));\n",
       "    --sklearn-color-border-box: var(--sg-text-color, var(--theme-code-foreground, var(--jp-content-font-color1, white)));\n",
       "    --sklearn-color-icon: #878787;\n",
       "  }\n",
       "}\n",
       "\n",
       "#sk-container-id-1 {\n",
       "  color: var(--sklearn-color-text);\n",
       "}\n",
       "\n",
       "#sk-container-id-1 pre {\n",
       "  padding: 0;\n",
       "}\n",
       "\n",
       "#sk-container-id-1 input.sk-hidden--visually {\n",
       "  border: 0;\n",
       "  clip: rect(1px 1px 1px 1px);\n",
       "  clip: rect(1px, 1px, 1px, 1px);\n",
       "  height: 1px;\n",
       "  margin: -1px;\n",
       "  overflow: hidden;\n",
       "  padding: 0;\n",
       "  position: absolute;\n",
       "  width: 1px;\n",
       "}\n",
       "\n",
       "#sk-container-id-1 div.sk-dashed-wrapped {\n",
       "  border: 1px dashed var(--sklearn-color-line);\n",
       "  margin: 0 0.4em 0.5em 0.4em;\n",
       "  box-sizing: border-box;\n",
       "  padding-bottom: 0.4em;\n",
       "  background-color: var(--sklearn-color-background);\n",
       "}\n",
       "\n",
       "#sk-container-id-1 div.sk-container {\n",
       "  /* jupyter's `normalize.less` sets `[hidden] { display: none; }`\n",
       "     but bootstrap.min.css set `[hidden] { display: none !important; }`\n",
       "     so we also need the `!important` here to be able to override the\n",
       "     default hidden behavior on the sphinx rendered scikit-learn.org.\n",
       "     See: https://github.com/scikit-learn/scikit-learn/issues/21755 */\n",
       "  display: inline-block !important;\n",
       "  position: relative;\n",
       "}\n",
       "\n",
       "#sk-container-id-1 div.sk-text-repr-fallback {\n",
       "  display: none;\n",
       "}\n",
       "\n",
       "div.sk-parallel-item,\n",
       "div.sk-serial,\n",
       "div.sk-item {\n",
       "  /* draw centered vertical line to link estimators */\n",
       "  background-image: linear-gradient(var(--sklearn-color-text-on-default-background), var(--sklearn-color-text-on-default-background));\n",
       "  background-size: 2px 100%;\n",
       "  background-repeat: no-repeat;\n",
       "  background-position: center center;\n",
       "}\n",
       "\n",
       "/* Parallel-specific style estimator block */\n",
       "\n",
       "#sk-container-id-1 div.sk-parallel-item::after {\n",
       "  content: \"\";\n",
       "  width: 100%;\n",
       "  border-bottom: 2px solid var(--sklearn-color-text-on-default-background);\n",
       "  flex-grow: 1;\n",
       "}\n",
       "\n",
       "#sk-container-id-1 div.sk-parallel {\n",
       "  display: flex;\n",
       "  align-items: stretch;\n",
       "  justify-content: center;\n",
       "  background-color: var(--sklearn-color-background);\n",
       "  position: relative;\n",
       "}\n",
       "\n",
       "#sk-container-id-1 div.sk-parallel-item {\n",
       "  display: flex;\n",
       "  flex-direction: column;\n",
       "}\n",
       "\n",
       "#sk-container-id-1 div.sk-parallel-item:first-child::after {\n",
       "  align-self: flex-end;\n",
       "  width: 50%;\n",
       "}\n",
       "\n",
       "#sk-container-id-1 div.sk-parallel-item:last-child::after {\n",
       "  align-self: flex-start;\n",
       "  width: 50%;\n",
       "}\n",
       "\n",
       "#sk-container-id-1 div.sk-parallel-item:only-child::after {\n",
       "  width: 0;\n",
       "}\n",
       "\n",
       "/* Serial-specific style estimator block */\n",
       "\n",
       "#sk-container-id-1 div.sk-serial {\n",
       "  display: flex;\n",
       "  flex-direction: column;\n",
       "  align-items: center;\n",
       "  background-color: var(--sklearn-color-background);\n",
       "  padding-right: 1em;\n",
       "  padding-left: 1em;\n",
       "}\n",
       "\n",
       "\n",
       "/* Toggleable style: style used for estimator/Pipeline/ColumnTransformer box that is\n",
       "clickable and can be expanded/collapsed.\n",
       "- Pipeline and ColumnTransformer use this feature and define the default style\n",
       "- Estimators will overwrite some part of the style using the `sk-estimator` class\n",
       "*/\n",
       "\n",
       "/* Pipeline and ColumnTransformer style (default) */\n",
       "\n",
       "#sk-container-id-1 div.sk-toggleable {\n",
       "  /* Default theme specific background. It is overwritten whether we have a\n",
       "  specific estimator or a Pipeline/ColumnTransformer */\n",
       "  background-color: var(--sklearn-color-background);\n",
       "}\n",
       "\n",
       "/* Toggleable label */\n",
       "#sk-container-id-1 label.sk-toggleable__label {\n",
       "  cursor: pointer;\n",
       "  display: block;\n",
       "  width: 100%;\n",
       "  margin-bottom: 0;\n",
       "  padding: 0.5em;\n",
       "  box-sizing: border-box;\n",
       "  text-align: center;\n",
       "}\n",
       "\n",
       "#sk-container-id-1 label.sk-toggleable__label-arrow:before {\n",
       "  /* Arrow on the left of the label */\n",
       "  content: \"▸\";\n",
       "  float: left;\n",
       "  margin-right: 0.25em;\n",
       "  color: var(--sklearn-color-icon);\n",
       "}\n",
       "\n",
       "#sk-container-id-1 label.sk-toggleable__label-arrow:hover:before {\n",
       "  color: var(--sklearn-color-text);\n",
       "}\n",
       "\n",
       "/* Toggleable content - dropdown */\n",
       "\n",
       "#sk-container-id-1 div.sk-toggleable__content {\n",
       "  max-height: 0;\n",
       "  max-width: 0;\n",
       "  overflow: hidden;\n",
       "  text-align: left;\n",
       "  /* unfitted */\n",
       "  background-color: var(--sklearn-color-unfitted-level-0);\n",
       "}\n",
       "\n",
       "#sk-container-id-1 div.sk-toggleable__content.fitted {\n",
       "  /* fitted */\n",
       "  background-color: var(--sklearn-color-fitted-level-0);\n",
       "}\n",
       "\n",
       "#sk-container-id-1 div.sk-toggleable__content pre {\n",
       "  margin: 0.2em;\n",
       "  border-radius: 0.25em;\n",
       "  color: var(--sklearn-color-text);\n",
       "  /* unfitted */\n",
       "  background-color: var(--sklearn-color-unfitted-level-0);\n",
       "}\n",
       "\n",
       "#sk-container-id-1 div.sk-toggleable__content.fitted pre {\n",
       "  /* unfitted */\n",
       "  background-color: var(--sklearn-color-fitted-level-0);\n",
       "}\n",
       "\n",
       "#sk-container-id-1 input.sk-toggleable__control:checked~div.sk-toggleable__content {\n",
       "  /* Expand drop-down */\n",
       "  max-height: 200px;\n",
       "  max-width: 100%;\n",
       "  overflow: auto;\n",
       "}\n",
       "\n",
       "#sk-container-id-1 input.sk-toggleable__control:checked~label.sk-toggleable__label-arrow:before {\n",
       "  content: \"▾\";\n",
       "}\n",
       "\n",
       "/* Pipeline/ColumnTransformer-specific style */\n",
       "\n",
       "#sk-container-id-1 div.sk-label input.sk-toggleable__control:checked~label.sk-toggleable__label {\n",
       "  color: var(--sklearn-color-text);\n",
       "  background-color: var(--sklearn-color-unfitted-level-2);\n",
       "}\n",
       "\n",
       "#sk-container-id-1 div.sk-label.fitted input.sk-toggleable__control:checked~label.sk-toggleable__label {\n",
       "  background-color: var(--sklearn-color-fitted-level-2);\n",
       "}\n",
       "\n",
       "/* Estimator-specific style */\n",
       "\n",
       "/* Colorize estimator box */\n",
       "#sk-container-id-1 div.sk-estimator input.sk-toggleable__control:checked~label.sk-toggleable__label {\n",
       "  /* unfitted */\n",
       "  background-color: var(--sklearn-color-unfitted-level-2);\n",
       "}\n",
       "\n",
       "#sk-container-id-1 div.sk-estimator.fitted input.sk-toggleable__control:checked~label.sk-toggleable__label {\n",
       "  /* fitted */\n",
       "  background-color: var(--sklearn-color-fitted-level-2);\n",
       "}\n",
       "\n",
       "#sk-container-id-1 div.sk-label label.sk-toggleable__label,\n",
       "#sk-container-id-1 div.sk-label label {\n",
       "  /* The background is the default theme color */\n",
       "  color: var(--sklearn-color-text-on-default-background);\n",
       "}\n",
       "\n",
       "/* On hover, darken the color of the background */\n",
       "#sk-container-id-1 div.sk-label:hover label.sk-toggleable__label {\n",
       "  color: var(--sklearn-color-text);\n",
       "  background-color: var(--sklearn-color-unfitted-level-2);\n",
       "}\n",
       "\n",
       "/* Label box, darken color on hover, fitted */\n",
       "#sk-container-id-1 div.sk-label.fitted:hover label.sk-toggleable__label.fitted {\n",
       "  color: var(--sklearn-color-text);\n",
       "  background-color: var(--sklearn-color-fitted-level-2);\n",
       "}\n",
       "\n",
       "/* Estimator label */\n",
       "\n",
       "#sk-container-id-1 div.sk-label label {\n",
       "  font-family: monospace;\n",
       "  font-weight: bold;\n",
       "  display: inline-block;\n",
       "  line-height: 1.2em;\n",
       "}\n",
       "\n",
       "#sk-container-id-1 div.sk-label-container {\n",
       "  text-align: center;\n",
       "}\n",
       "\n",
       "/* Estimator-specific */\n",
       "#sk-container-id-1 div.sk-estimator {\n",
       "  font-family: monospace;\n",
       "  border: 1px dotted var(--sklearn-color-border-box);\n",
       "  border-radius: 0.25em;\n",
       "  box-sizing: border-box;\n",
       "  margin-bottom: 0.5em;\n",
       "  /* unfitted */\n",
       "  background-color: var(--sklearn-color-unfitted-level-0);\n",
       "}\n",
       "\n",
       "#sk-container-id-1 div.sk-estimator.fitted {\n",
       "  /* fitted */\n",
       "  background-color: var(--sklearn-color-fitted-level-0);\n",
       "}\n",
       "\n",
       "/* on hover */\n",
       "#sk-container-id-1 div.sk-estimator:hover {\n",
       "  /* unfitted */\n",
       "  background-color: var(--sklearn-color-unfitted-level-2);\n",
       "}\n",
       "\n",
       "#sk-container-id-1 div.sk-estimator.fitted:hover {\n",
       "  /* fitted */\n",
       "  background-color: var(--sklearn-color-fitted-level-2);\n",
       "}\n",
       "\n",
       "/* Specification for estimator info (e.g. \"i\" and \"?\") */\n",
       "\n",
       "/* Common style for \"i\" and \"?\" */\n",
       "\n",
       ".sk-estimator-doc-link,\n",
       "a:link.sk-estimator-doc-link,\n",
       "a:visited.sk-estimator-doc-link {\n",
       "  float: right;\n",
       "  font-size: smaller;\n",
       "  line-height: 1em;\n",
       "  font-family: monospace;\n",
       "  background-color: var(--sklearn-color-background);\n",
       "  border-radius: 1em;\n",
       "  height: 1em;\n",
       "  width: 1em;\n",
       "  text-decoration: none !important;\n",
       "  margin-left: 1ex;\n",
       "  /* unfitted */\n",
       "  border: var(--sklearn-color-unfitted-level-1) 1pt solid;\n",
       "  color: var(--sklearn-color-unfitted-level-1);\n",
       "}\n",
       "\n",
       ".sk-estimator-doc-link.fitted,\n",
       "a:link.sk-estimator-doc-link.fitted,\n",
       "a:visited.sk-estimator-doc-link.fitted {\n",
       "  /* fitted */\n",
       "  border: var(--sklearn-color-fitted-level-1) 1pt solid;\n",
       "  color: var(--sklearn-color-fitted-level-1);\n",
       "}\n",
       "\n",
       "/* On hover */\n",
       "div.sk-estimator:hover .sk-estimator-doc-link:hover,\n",
       ".sk-estimator-doc-link:hover,\n",
       "div.sk-label-container:hover .sk-estimator-doc-link:hover,\n",
       ".sk-estimator-doc-link:hover {\n",
       "  /* unfitted */\n",
       "  background-color: var(--sklearn-color-unfitted-level-3);\n",
       "  color: var(--sklearn-color-background);\n",
       "  text-decoration: none;\n",
       "}\n",
       "\n",
       "div.sk-estimator.fitted:hover .sk-estimator-doc-link.fitted:hover,\n",
       ".sk-estimator-doc-link.fitted:hover,\n",
       "div.sk-label-container:hover .sk-estimator-doc-link.fitted:hover,\n",
       ".sk-estimator-doc-link.fitted:hover {\n",
       "  /* fitted */\n",
       "  background-color: var(--sklearn-color-fitted-level-3);\n",
       "  color: var(--sklearn-color-background);\n",
       "  text-decoration: none;\n",
       "}\n",
       "\n",
       "/* Span, style for the box shown on hovering the info icon */\n",
       ".sk-estimator-doc-link span {\n",
       "  display: none;\n",
       "  z-index: 9999;\n",
       "  position: relative;\n",
       "  font-weight: normal;\n",
       "  right: .2ex;\n",
       "  padding: .5ex;\n",
       "  margin: .5ex;\n",
       "  width: min-content;\n",
       "  min-width: 20ex;\n",
       "  max-width: 50ex;\n",
       "  color: var(--sklearn-color-text);\n",
       "  box-shadow: 2pt 2pt 4pt #999;\n",
       "  /* unfitted */\n",
       "  background: var(--sklearn-color-unfitted-level-0);\n",
       "  border: .5pt solid var(--sklearn-color-unfitted-level-3);\n",
       "}\n",
       "\n",
       ".sk-estimator-doc-link.fitted span {\n",
       "  /* fitted */\n",
       "  background: var(--sklearn-color-fitted-level-0);\n",
       "  border: var(--sklearn-color-fitted-level-3);\n",
       "}\n",
       "\n",
       ".sk-estimator-doc-link:hover span {\n",
       "  display: block;\n",
       "}\n",
       "\n",
       "/* \"?\"-specific style due to the `<a>` HTML tag */\n",
       "\n",
       "#sk-container-id-1 a.estimator_doc_link {\n",
       "  float: right;\n",
       "  font-size: 1rem;\n",
       "  line-height: 1em;\n",
       "  font-family: monospace;\n",
       "  background-color: var(--sklearn-color-background);\n",
       "  border-radius: 1rem;\n",
       "  height: 1rem;\n",
       "  width: 1rem;\n",
       "  text-decoration: none;\n",
       "  /* unfitted */\n",
       "  color: var(--sklearn-color-unfitted-level-1);\n",
       "  border: var(--sklearn-color-unfitted-level-1) 1pt solid;\n",
       "}\n",
       "\n",
       "#sk-container-id-1 a.estimator_doc_link.fitted {\n",
       "  /* fitted */\n",
       "  border: var(--sklearn-color-fitted-level-1) 1pt solid;\n",
       "  color: var(--sklearn-color-fitted-level-1);\n",
       "}\n",
       "\n",
       "/* On hover */\n",
       "#sk-container-id-1 a.estimator_doc_link:hover {\n",
       "  /* unfitted */\n",
       "  background-color: var(--sklearn-color-unfitted-level-3);\n",
       "  color: var(--sklearn-color-background);\n",
       "  text-decoration: none;\n",
       "}\n",
       "\n",
       "#sk-container-id-1 a.estimator_doc_link.fitted:hover {\n",
       "  /* fitted */\n",
       "  background-color: var(--sklearn-color-fitted-level-3);\n",
       "}\n",
       "</style><div id=\"sk-container-id-1\" class=\"sk-top-container\"><div class=\"sk-text-repr-fallback\"><pre>LinearRegression()</pre><b>In a Jupyter environment, please rerun this cell to show the HTML representation or trust the notebook. <br />On GitHub, the HTML representation is unable to render, please try loading this page with nbviewer.org.</b></div><div class=\"sk-container\" hidden><div class=\"sk-item\"><div class=\"sk-estimator fitted sk-toggleable\"><input class=\"sk-toggleable__control sk-hidden--visually\" id=\"sk-estimator-id-1\" type=\"checkbox\" checked><label for=\"sk-estimator-id-1\" class=\"sk-toggleable__label fitted sk-toggleable__label-arrow fitted\">&nbsp;&nbsp;LinearRegression<a class=\"sk-estimator-doc-link fitted\" rel=\"noreferrer\" target=\"_blank\" href=\"https://scikit-learn.org/1.4/modules/generated/sklearn.linear_model.LinearRegression.html\">?<span>Documentation for LinearRegression</span></a><span class=\"sk-estimator-doc-link fitted\">i<span>Fitted</span></span></label><div class=\"sk-toggleable__content fitted\"><pre>LinearRegression()</pre></div> </div></div></div></div>"
      ],
      "text/plain": [
       "LinearRegression()"
      ]
     },
     "execution_count": 166,
     "metadata": {},
     "output_type": "execute_result"
    }
   ],
   "source": [
    "from sklearn.linear_model import LinearRegression\n",
    "linreg=LinearRegression()\n",
    "linreg.fit(df2_train_x,df2_train_y)"
   ]
  },
  {
   "cell_type": "code",
   "execution_count": 168,
   "id": "fdf7044c-3847-433c-abcc-2aea98123e37",
   "metadata": {},
   "outputs": [
    {
     "data": {
      "text/plain": [
       "array([7.23905408, 4.20895981, 5.44116973, ..., 6.10569741, 5.06046474,\n",
       "       5.04944391])"
      ]
     },
     "execution_count": 168,
     "metadata": {},
     "output_type": "execute_result"
    }
   ],
   "source": [
    "pred_lin=linreg.predict(df2_test_x)\n",
    "pred_lin"
   ]
  },
  {
   "cell_type": "markdown",
   "id": "f783eaca-d08e-40b7-ad80-19041b0b2062",
   "metadata": {},
   "source": [
    "### Evaluating the model performance"
   ]
  },
  {
   "cell_type": "code",
   "execution_count": 170,
   "id": "5381d05a-318c-4ec3-b9ff-d78c4cbdb0d0",
   "metadata": {},
   "outputs": [
    {
     "data": {
      "text/plain": [
       "0.7840390209741722"
      ]
     },
     "execution_count": 170,
     "metadata": {},
     "output_type": "execute_result"
    }
   ],
   "source": [
    "R_square=linreg.score(df2_train_x,df2_train_y)\n",
    "R_square"
   ]
  },
  {
   "cell_type": "code",
   "execution_count": 172,
   "id": "bf850e94-e255-43f1-8019-eff391281e22",
   "metadata": {},
   "outputs": [
    {
     "data": {
      "text/plain": [
       "-3.618963149070934"
      ]
     },
     "execution_count": 172,
     "metadata": {},
     "output_type": "execute_result"
    }
   ],
   "source": [
    "linreg.intercept_"
   ]
  },
  {
   "cell_type": "code",
   "execution_count": 174,
   "id": "c271973b-0fe0-493f-8a7d-7d3fbaef0963",
   "metadata": {},
   "outputs": [
    {
     "data": {
      "text/plain": [
       "0      -0.239054\n",
       "1       0.191040\n",
       "2      -0.741170\n",
       "3       0.372787\n",
       "4       0.158204\n",
       "          ...   \n",
       "5654   -0.124127\n",
       "5655   -0.047267\n",
       "5656   -0.305697\n",
       "5657   -0.560465\n",
       "5658    1.150556\n",
       "Name: Rating, Length: 5659, dtype: float64"
      ]
     },
     "execution_count": 174,
     "metadata": {},
     "output_type": "execute_result"
    }
   ],
   "source": [
    "err_train=df2_train_y-pred_lin\n",
    "err_train"
   ]
  },
  {
   "cell_type": "code",
   "execution_count": 232,
   "id": "df1c9fd3-cfd7-47a8-bc54-a58670c38ec4",
   "metadata": {},
   "outputs": [],
   "source": [
    "from sklearn.metrics import mean_squared_error,mean_absolute_percentage_error,r2_score,root_mean_squared_error"
   ]
  },
  {
   "cell_type": "code",
   "execution_count": 234,
   "id": "9a015e34-cf8b-48b9-a909-bcb8b01f8c6d",
   "metadata": {},
   "outputs": [
    {
     "name": "stdout",
     "output_type": "stream",
     "text": [
      "mse= 0.4118980677720514\n",
      "mape= 0.09290765853638273\n",
      "r2score 0.7840390209741722\n",
      "rmse= 0.6417928542544327\n"
     ]
    }
   ],
   "source": [
    "mse=mean_squared_error(df2_test_y,pred_lin)\n",
    "rmse=root_mean_squared_error(df2_test_y,pred_lin)\n",
    "mape=mean_absolute_percentage_error(df2_test_y,pred_lin)\n",
    "r2score=r2_score(df2_test_y,pred_lin)\n",
    "print(\"mse=\",mse)\n",
    "print(\"mape=\",mape)\n",
    "print(\"r2score\",r2score)\n",
    "print(\"rmse=\",rmse)"
   ]
  },
  {
   "cell_type": "markdown",
   "id": "196b57be-70f9-4d4a-bfe9-c6aeed2f9748",
   "metadata": {},
   "source": [
    "### ACTUAL V/S PREDICTED ANALYSIS"
   ]
  },
  {
   "cell_type": "code",
   "execution_count": 197,
   "id": "a9a29783-01f0-42e5-8876-827ecec7b5b8",
   "metadata": {},
   "outputs": [
    {
     "data": {
      "image/png": "[encoded data removed]",
      "text/plain": [
       "<Figure size 500x500 with 1 Axes>"
      ]
     },
     "metadata": {},
     "output_type": "display_data"
    }
   ],
   "source": [
    "plt.figure(figsize=(5,5))\n",
    "plt.scatter(df2_test_y,pred_lin)\n",
    "plt.title(\"Actual and predicted ratings\")\n",
    "plt.xlabel(\"Actual Rating\")\n",
    "plt.ylabel(\"Predicted Rating\")\n",
    "plt.show()"
   ]
  },
  {
   "cell_type": "code",
   "execution_count": 208,
   "id": "360c4fb5-365e-41b0-b3e6-6a5e142c2a69",
   "metadata": {},
   "outputs": [
    {
     "data": {
      "text/plain": [
       "(array([1.000e+00, 0.000e+00, 2.000e+00, 0.000e+00, 0.000e+00, 2.000e+00,\n",
       "        3.000e+00, 2.000e+00, 6.000e+00, 8.000e+00, 1.100e+01, 2.900e+01,\n",
       "        5.900e+01, 7.600e+01, 1.400e+02, 2.390e+02, 4.180e+02, 7.320e+02,\n",
       "        9.740e+02, 1.013e+03, 7.810e+02, 4.770e+02, 2.910e+02, 1.660e+02,\n",
       "        1.120e+02, 6.800e+01, 2.800e+01, 1.000e+01, 5.000e+00, 6.000e+00]),\n",
       " array([-4.50087942, -4.26535563, -4.02983184, -3.79430805, -3.55878426,\n",
       "        -3.32326047, -3.08773668, -2.85221289, -2.6166891 , -2.38116531,\n",
       "        -2.14564152, -1.91011773, -1.67459394, -1.43907015, -1.20354637,\n",
       "        -0.96802258, -0.73249879, -0.496975  , -0.26145121, -0.02592742,\n",
       "         0.20959637,  0.44512016,  0.68064395,  0.91616774,  1.15169153,\n",
       "         1.38721532,  1.62273911,  1.8582629 ,  2.09378669,  2.32931048,\n",
       "         2.56483427]),\n",
       " <BarContainer object of 30 artists>)"
      ]
     },
     "execution_count": 208,
     "metadata": {},
     "output_type": "execute_result"
    },
    {
     "data": {
      "image/png": "[encoded data removed]",
      "text/plain": [
       "<Figure size 300x300 with 1 Axes>"
      ]
     },
     "metadata": {},
     "output_type": "display_data"
    }
   ],
   "source": [
    "plt.figure(figsize=(3,3))\n",
    "plt.hist(err_train,bins=30,edgecolor=\"red\")"
   ]
  },
  {
   "cell_type": "code",
   "execution_count": 206,
   "id": "585c2d63-c534-462c-8509-4dbcf7110d8c",
   "metadata": {},
   "outputs": [
    {
     "data": {
      "text/plain": [
       "<Axes: ylabel='Rating'>"
      ]
     },
     "execution_count": 206,
     "metadata": {},
     "output_type": "execute_result"
    },
    {
     "data": {
      "image/png": "[encoded data removed]",
      "text/plain": [
       "<Figure size 300x300 with 1 Axes>"
      ]
     },
     "metadata": {},
     "output_type": "display_data"
    }
   ],
   "source": [
    "plt.figure(figsize=(3,3))\n",
    "sns.boxplot(err_train)"
   ]
  },
  {
   "cell_type": "code",
   "execution_count": 224,
   "id": "cbb718d7-8f39-4cdb-915c-273f17870927",
   "metadata": {},
   "outputs": [],
   "source": [
    "actual_pred=pd.DataFrame()\n",
    "actual_pred[\"Actual\"]=df2_train_y\n",
    "actual_pred[\"Predicted\"]=pred_lin"
   ]
  },
  {
   "cell_type": "code",
   "execution_count": 226,
   "id": "66c92b3e-f57b-4058-a75f-ebb98b495165",
   "metadata": {},
   "outputs": [
    {
     "data": {
      "text/html": [
       "<div>\n",
       "<style scoped>\n",
       "    .dataframe tbody tr th:only-of-type {\n",
       "        vertical-align: middle;\n",
       "    }\n",
       "\n",
       "    .dataframe tbody tr th {\n",
       "        vertical-align: top;\n",
       "    }\n",
       "\n",
       "    .dataframe thead th {\n",
       "        text-align: right;\n",
       "    }\n",
       "</style>\n",
       "<table border=\"1\" class=\"dataframe\">\n",
       "  <thead>\n",
       "    <tr style=\"text-align: right;\">\n",
       "      <th></th>\n",
       "      <th>Actual</th>\n",
       "      <th>Predicted</th>\n",
       "    </tr>\n",
       "  </thead>\n",
       "  <tbody>\n",
       "    <tr>\n",
       "      <th>0</th>\n",
       "      <td>7.0</td>\n",
       "      <td>7.239054</td>\n",
       "    </tr>\n",
       "    <tr>\n",
       "      <th>1</th>\n",
       "      <td>4.4</td>\n",
       "      <td>4.208960</td>\n",
       "    </tr>\n",
       "    <tr>\n",
       "      <th>2</th>\n",
       "      <td>4.7</td>\n",
       "      <td>5.441170</td>\n",
       "    </tr>\n",
       "    <tr>\n",
       "      <th>3</th>\n",
       "      <td>7.4</td>\n",
       "      <td>7.027213</td>\n",
       "    </tr>\n",
       "    <tr>\n",
       "      <th>4</th>\n",
       "      <td>5.6</td>\n",
       "      <td>5.441796</td>\n",
       "    </tr>\n",
       "    <tr>\n",
       "      <th>...</th>\n",
       "      <td>...</td>\n",
       "      <td>...</td>\n",
       "    </tr>\n",
       "    <tr>\n",
       "      <th>5654</th>\n",
       "      <td>6.1</td>\n",
       "      <td>6.224127</td>\n",
       "    </tr>\n",
       "    <tr>\n",
       "      <th>5655</th>\n",
       "      <td>6.2</td>\n",
       "      <td>6.247267</td>\n",
       "    </tr>\n",
       "    <tr>\n",
       "      <th>5656</th>\n",
       "      <td>5.8</td>\n",
       "      <td>6.105697</td>\n",
       "    </tr>\n",
       "    <tr>\n",
       "      <th>5657</th>\n",
       "      <td>4.5</td>\n",
       "      <td>5.060465</td>\n",
       "    </tr>\n",
       "    <tr>\n",
       "      <th>5658</th>\n",
       "      <td>6.2</td>\n",
       "      <td>5.049444</td>\n",
       "    </tr>\n",
       "  </tbody>\n",
       "</table>\n",
       "<p>5659 rows × 2 columns</p>\n",
       "</div>"
      ],
      "text/plain": [
       "      Actual  Predicted\n",
       "0        7.0   7.239054\n",
       "1        4.4   4.208960\n",
       "2        4.7   5.441170\n",
       "3        7.4   7.027213\n",
       "4        5.6   5.441796\n",
       "...      ...        ...\n",
       "5654     6.1   6.224127\n",
       "5655     6.2   6.247267\n",
       "5656     5.8   6.105697\n",
       "5657     4.5   5.060465\n",
       "5658     6.2   5.049444\n",
       "\n",
       "[5659 rows x 2 columns]"
      ]
     },
     "execution_count": 226,
     "metadata": {},
     "output_type": "execute_result"
    }
   ],
   "source": [
    "actual_pred"
   ]
  },
  {
   "cell_type": "code",
   "execution_count": 230,
   "id": "1e022aed-a565-4fd6-9296-198c241fd051",
   "metadata": {},
   "outputs": [
    {
     "data": {
      "text/plain": [
       "<Axes: xlabel='Actual', ylabel='Predicted'>"
      ]
     },
     "execution_count": 230,
     "metadata": {},
     "output_type": "execute_result"
    },
    {
     "data": {
      "image/png": "[encoded data removed]",
      "text/plain": [
       "<Figure size 300x300 with 1 Axes>"
      ]
     },
     "metadata": {},
     "output_type": "display_data"
    }
   ],
   "source": [
    "plt.figure(figsize=(3,3))\n",
    "sns.regplot(x=\"Actual\",y=\"Predicted\",data=actual_pred)"
   ]
  },
  {
   "cell_type": "markdown",
   "id": "6f37a973-4e06-4bfc-a1db-77abd4081a3d",
   "metadata": {},
   "source": [
    "### Conclusion"
   ]
  },
  {
   "cell_type": "markdown",
   "id": "d3346aa3-bf55-4761-9d73-1580989d71e5",
   "metadata": {},
   "source": [
    "1. Mse of 0.41 means squared error in our predictions is 0.41 ratings units squared.\n",
    "2. Mape of 9.29% means percentage of errors between actual and predicted is 9.28% which is not bad.\n",
    "3. Lower the MAPE accurate is the model. less than 10% is a good number.\n",
    "4. Rsquare of 78% means model explains 78% of the variability in the dependant variable by the independant variable.\n",
    "5. Outliers are observed in the data.\n",
    "6. Checked the difference in Actual vs Predicted values.\n",
    "7. Model is able to predict close Rating."
   ]
  }
 ],
 "metadata": {
  "kernelspec": {
   "display_name": "Python 3 (ipykernel)",
   "language": "python",
   "name": "python3"
  },
  "language_info": {
   "codemirror_mode": {
    "name": "ipython",
    "version": 3
   },
   "file_extension": ".py",
   "mimetype": "text/x-python",
   "name": "python",
   "nbconvert_exporter": "python",
   "pygments_lexer": "ipython3",
   "version": "3.12.4"
  }
 },
 "nbformat": 4,
 "nbformat_minor": 5
}
